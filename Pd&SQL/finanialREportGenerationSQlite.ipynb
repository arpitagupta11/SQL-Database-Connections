{
 "cells": [
  {
   "cell_type": "code",
   "execution_count": 2,
   "id": "e3e2c47e-579b-4f40-8900-a7cf4c953d19",
   "metadata": {},
   "outputs": [],
   "source": [
    "import sqlite3\n",
    "import pandas as pd\n",
    "import seaborn as sns \n",
    "from matplotlib import pyplot as plt"
   ]
  },
  {
   "cell_type": "code",
   "execution_count": 3,
   "id": "26064fcd-08c3-4e28-ac70-4f4821e7353e",
   "metadata": {},
   "outputs": [],
   "source": [
    "conn = sqlite3.connect('financial_data.db')\n",
    "cursor = conn.cursor()"
   ]
  },
  {
   "cell_type": "markdown",
   "id": "130fbd08-0419-4851-9d46-461b02eabe9d",
   "metadata": {},
   "source": [
    "#### Income Table:"
   ]
  },
  {
   "cell_type": "code",
   "execution_count": 4,
   "id": "46f38b4f-ad77-4ba5-907b-d59aac6e0dec",
   "metadata": {},
   "outputs": [
    {
     "data": {
      "text/plain": [
       "<sqlite3.Cursor at 0x1c3943bb640>"
      ]
     },
     "execution_count": 4,
     "metadata": {},
     "output_type": "execute_result"
    }
   ],
   "source": [
    "cursor.execute('''\n",
    "    CREATE TABLE IF NOT EXISTS income (\n",
    "        income_id INTEGER PRIMARY KEY AUTOINCREMENT,\n",
    "        date TEXT,\n",
    "        amount REAL,\n",
    "        category TEXT,\n",
    "        description TEXT\n",
    "    )\n",
    "''')\n"
   ]
  },
  {
   "cell_type": "markdown",
   "id": "3d7ec306-4a2b-4cb6-8395-7f5a286aff52",
   "metadata": {},
   "source": [
    "#### Expenses Table:"
   ]
  },
  {
   "cell_type": "code",
   "execution_count": 5,
   "id": "4e9c41be-1459-4f0e-b838-f822d2895b7f",
   "metadata": {},
   "outputs": [
    {
     "data": {
      "text/plain": [
       "<sqlite3.Cursor at 0x1c3943bb640>"
      ]
     },
     "execution_count": 5,
     "metadata": {},
     "output_type": "execute_result"
    }
   ],
   "source": [
    "cursor.execute('''\n",
    "    CREATE TABLE IF NOT EXISTS expenses (\n",
    "        expense_id INTEGER PRIMARY KEY AUTOINCREMENT,\n",
    "        date TEXT,\n",
    "        amount REAL,\n",
    "        category TEXT,\n",
    "        description TEXT\n",
    "    )\n",
    "''')\n"
   ]
  },
  {
   "cell_type": "code",
   "execution_count": 6,
   "id": "7385cd24-f398-4fe3-996f-8feb56862e6b",
   "metadata": {},
   "outputs": [],
   "source": [
    "#### Transactions Table:"
   ]
  },
  {
   "cell_type": "code",
   "execution_count": 7,
   "id": "92db69c5-89f7-46e9-96f6-de81796549eb",
   "metadata": {},
   "outputs": [
    {
     "data": {
      "text/plain": [
       "<sqlite3.Cursor at 0x1c3943bb640>"
      ]
     },
     "execution_count": 7,
     "metadata": {},
     "output_type": "execute_result"
    }
   ],
   "source": [
    "cursor.execute('''\n",
    "    CREATE TABLE IF NOT EXISTS transactions (\n",
    "        transaction_id INTEGER PRIMARY KEY AUTOINCREMENT,\n",
    "        date TEXT,\n",
    "        amount REAL,\n",
    "        type TEXT,  -- 'income' or 'expense'\n",
    "        category TEXT,\n",
    "        description TEXT\n",
    "    )\n",
    "''')\n"
   ]
  },
  {
   "cell_type": "markdown",
   "id": "4e788c0d-b890-4ab1-95d4-e2ed97a9206e",
   "metadata": {},
   "source": [
    "####  Insert Data into the Tables:"
   ]
  },
  {
   "cell_type": "code",
   "execution_count": 8,
   "id": "0e938582-f232-4a88-9048-03106825cd37",
   "metadata": {},
   "outputs": [
    {
     "data": {
      "text/plain": [
       "<sqlite3.Cursor at 0x1c3943bb640>"
      ]
     },
     "execution_count": 8,
     "metadata": {},
     "output_type": "execute_result"
    }
   ],
   "source": [
    "cursor.execute('''\n",
    "    INSERT INTO income (date, amount, category, description)\n",
    "    VALUES ('2024-09-15', 5000, 'Salary', 'Monthly salary for September')\n",
    "''')\n"
   ]
  },
  {
   "cell_type": "code",
   "execution_count": 9,
   "id": "0ef29639-8e1e-40de-b5fc-db941d640158",
   "metadata": {},
   "outputs": [
    {
     "data": {
      "text/plain": [
       "<sqlite3.Cursor at 0x1c3943bb640>"
      ]
     },
     "execution_count": 9,
     "metadata": {},
     "output_type": "execute_result"
    }
   ],
   "source": [
    "cursor.execute('''\n",
    "    INSERT INTO expenses (date, amount, category, description)\n",
    "    VALUES ('2024-09-16', 1500, 'Groceries', 'Weekly grocery shopping')\n",
    "''')\n"
   ]
  },
  {
   "cell_type": "code",
   "execution_count": 10,
   "id": "93c522fe-0030-4999-a8cd-3dba0b1d0e8a",
   "metadata": {},
   "outputs": [],
   "source": [
    "conn.commit()"
   ]
  },
  {
   "cell_type": "code",
   "execution_count": 11,
   "id": "7d15465f-5c69-4585-831a-462d6843a63f",
   "metadata": {},
   "outputs": [],
   "source": [
    "query = \"\"\"\n",
    "SELECT income.date, income.amount AS income_amount, expenses.amount AS expense_amount\n",
    "FROM income\n",
    "LEFT JOIN expenses ON income.date = expenses.date;\n",
    "\"\"\"\n",
    "df = pd.read_sql_query(query, conn)\n"
   ]
  },
  {
   "cell_type": "code",
   "execution_count": 12,
   "id": "b0dd934d-ab56-4870-b77a-f560b058cf87",
   "metadata": {},
   "outputs": [],
   "source": [
    "df['balance'] = df['income_amount'] - df['expense_amount']\n",
    "total_income = df['income_amount'].sum()\n",
    "total_expenses = df['expense_amount'].sum()\n",
    "net_balance = df['balance'].sum()\n"
   ]
  },
  {
   "cell_type": "code",
   "execution_count": 18,
   "id": "be674f57-945c-4f67-832f-3b75dd93f338",
   "metadata": {},
   "outputs": [],
   "source": [
    "\n",
    "df['date'] = pd.to_datetime(df['date'], errors='coerce')  # Convert to datetime"
   ]
  },
  {
   "cell_type": "code",
   "execution_count": 19,
   "id": "58ec67e0-c9b9-4ce6-8548-470cd6e315be",
   "metadata": {},
   "outputs": [
    {
     "name": "stdout",
     "output_type": "stream",
     "text": [
      "         income_amount\n",
      "date                  \n",
      "2024-09         5000.0\n"
     ]
    }
   ],
   "source": [
    "# Group by month and sum only the numeric columns\n",
    "monthly_report = df.groupby(df['date'].dt.to_period('M')).sum(numeric_only=True)\n",
    "\n",
    "# Print the result\n",
    "print(monthly_report)\n"
   ]
  },
  {
   "cell_type": "code",
   "execution_count": null,
   "id": "de039e18-27c2-4c84-a45e-0533ce0fcf05",
   "metadata": {},
   "outputs": [],
   "source": []
  }
 ],
 "metadata": {
  "kernelspec": {
   "display_name": "Python 3 (ipykernel)",
   "language": "python",
   "name": "python3"
  },
  "language_info": {
   "codemirror_mode": {
    "name": "ipython",
    "version": 3
   },
   "file_extension": ".py",
   "mimetype": "text/x-python",
   "name": "python",
   "nbconvert_exporter": "python",
   "pygments_lexer": "ipython3",
   "version": "3.11.4"
  }
 },
 "nbformat": 4,
 "nbformat_minor": 5
}
