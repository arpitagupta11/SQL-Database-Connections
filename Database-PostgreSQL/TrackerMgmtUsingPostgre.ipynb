{
 "cells": [
  {
   "cell_type": "markdown",
   "id": "9bcb3fda-497d-4b24-9e45-96ccbf867c43",
   "metadata": {},
   "source": [
    "# Personal Expense Tracker\n",
    "\n",
    "## Libraries Used\n",
    "\n",
    "### `psycopg2`\n",
    "\n",
    "```markdown\n",
    "- **Description**: A PostgreSQL adapter for the Python programming language. It allows Python code to interact with PostgreSQL databases.\n",
    "- **Installation**: \n",
    "  ```sh\n",
    "  pip install psycopg2-binary\n"
   ]
  },
  {
   "cell_type": "code",
   "execution_count": 1,
   "id": "25fc6aac-ddfa-4559-8de6-ed02595e2a29",
   "metadata": {},
   "outputs": [],
   "source": [
    "import psycopg2"
   ]
  },
  {
   "cell_type": "code",
   "execution_count": 3,
   "id": "f403d88d-b24c-48e5-b447-c5d53372256f",
   "metadata": {},
   "outputs": [],
   "source": [
    "# Establish a connection to the PostgreSQL database\n",
    "conn = psycopg2.connect(\n",
    "    dbname=\"PersonalExpenseTracker\",\n",
    "    user=\"postgres\",\n",
    "    password=\"arpita11\",\n",
    "    host=\"localhost\",\n",
    "    port=\"5432\"\n",
    ")\n",
    "\n",
    "# Create a cursor object\n",
    "cursor = conn.cursor()\n"
   ]
  },
  {
   "cell_type": "markdown",
   "id": "bc41975f-8741-488e-b154-33bd8d0c0288",
   "metadata": {},
   "source": [
    "#### Implement CRUD Operations:\n",
    "##### Add a New Expense:"
   ]
  },
  {
   "cell_type": "code",
   "execution_count": 4,
   "id": "2394467c-6929-415f-9a3d-d0533f705d01",
   "metadata": {},
   "outputs": [],
   "source": [
    "# Function to add a new expense\n",
    "def add_expense(date, category, description, amount):\n",
    "    query = '''\n",
    "    INSERT INTO expenses (date, category, description, amount)\n",
    "    VALUES (%s, %s, %s, %s)\n",
    "    '''\n",
    "    cursor.execute(query, (date, category, description, amount))\n",
    "    conn.commit()\n",
    "    print(\"Expense added successfully.\")"
   ]
  },
  {
   "cell_type": "markdown",
   "id": "04657332-29c5-4e93-9099-87f405976fb1",
   "metadata": {},
   "source": [
    "##### View All Expenses:"
   ]
  },
  {
   "cell_type": "code",
   "execution_count": 5,
   "id": "b68de960-0dea-4bbb-91cc-d4b7ab43fb86",
   "metadata": {},
   "outputs": [],
   "source": [
    "# Function to view all expenses\n",
    "def view_expenses():\n",
    "    cursor.execute('SELECT * FROM expenses')\n",
    "    rows = cursor.fetchall()\n",
    "    for row in rows:\n",
    "        print(row)\n"
   ]
  },
  {
   "cell_type": "markdown",
   "id": "dfd1976f-e980-4d76-b23a-bee09d738889",
   "metadata": {},
   "source": [
    "##### Update an Expense Record:"
   ]
  },
  {
   "cell_type": "code",
   "execution_count": 6,
   "id": "0f4a61f0-845d-4c86-8d31-6ba464bc456e",
   "metadata": {},
   "outputs": [],
   "source": [
    "# Function to update an existing expense\n",
    "def update_expense(expense_id, date=None, category=None, description=None, amount=None):\n",
    "    query = 'UPDATE expenses SET'\n",
    "    params = []\n",
    "    if date:\n",
    "        query += ' date = %s,'\n",
    "        params.append(date)\n",
    "    if category:\n",
    "        query += ' category = %s,'\n",
    "        params.append(category)\n",
    "    if description:\n",
    "        query += ' description = %s,'\n",
    "        params.append(description)\n",
    "    if amount:\n",
    "        query += ' amount = %s,'\n",
    "        params.append(amount)\n",
    "    query = query.rstrip(',') + ' WHERE id = %s'\n",
    "    params.append(expense_id)\n",
    "    cursor.execute(query, params)\n",
    "    conn.commit()\n",
    "    print(\"Expense updated successfully.\")\n"
   ]
  },
  {
   "cell_type": "markdown",
   "id": "2c339791-feac-40b3-b38f-7a90d18e3306",
   "metadata": {},
   "source": [
    "##### Delete an Expense Record:"
   ]
  },
  {
   "cell_type": "code",
   "execution_count": 7,
   "id": "3ac42ac9-a156-40f7-af59-4bd4a8472a50",
   "metadata": {},
   "outputs": [],
   "source": [
    "def delete_expense(expense_id):\n",
    "    query = 'DELETE FROM expenses WHERE id = %s'\n",
    "    cursor.execute(query, (expense_id,))\n",
    "    conn.commit()\n",
    "    print(\"Expense deleted successfully.\")\n"
   ]
  },
  {
   "cell_type": "code",
   "execution_count": 8,
   "id": "98d47499-26b1-405e-80fc-bb72d640c51b",
   "metadata": {},
   "outputs": [
    {
     "name": "stdout",
     "output_type": "stream",
     "text": [
      "Expense added successfully.\n"
     ]
    }
   ],
   "source": [
    "add_expense(\"2024-09-01\", \"Food\", \"Lunch at a restaurant\", 15.50)\n"
   ]
  },
  {
   "cell_type": "code",
   "execution_count": 9,
   "id": "df10a37e-3bf3-483b-aa7a-9607676ff30f",
   "metadata": {},
   "outputs": [
    {
     "name": "stdout",
     "output_type": "stream",
     "text": [
      "(1, datetime.date(2024, 9, 1), 'Food', 'Lunch at a restaurant', Decimal('15.50'))\n",
      "Expense updated successfully.\n",
      "Expense deleted successfully.\n"
     ]
    }
   ],
   "source": [
    "view_expenses()\n",
    "update_expense(1, amount=16.00)\n",
    "delete_expense(1)"
   ]
  },
  {
   "cell_type": "code",
   "execution_count": 12,
   "id": "b45967a3-b1bb-43c0-98e5-873777f4e3ed",
   "metadata": {},
   "outputs": [
    {
     "name": "stdout",
     "output_type": "stream",
     "text": [
      "Expense deleted successfully.\n"
     ]
    }
   ],
   "source": [
    "delete_expense(1)\n"
   ]
  },
  {
   "cell_type": "code",
   "execution_count": 11,
   "id": "4f9ebd2f-57a5-43cc-8e43-dcfdcdc35ee7",
   "metadata": {},
   "outputs": [
    {
     "name": "stdout",
     "output_type": "stream",
     "text": [
      "Expense added successfully.\n",
      "Expense added successfully.\n"
     ]
    }
   ],
   "source": [
    "add_expense(\"2024-09-01\", \"Food\", \"Lunch at a restaurant\", 15.50)\n",
    "add_expense(\"2024-09-02\", \"Transportation\", \"Uber ride to work\", 8.75)\n"
   ]
  },
  {
   "cell_type": "code",
   "execution_count": null,
   "id": "15ae75f5-8faa-44b9-ae4c-53ca899ca6fd",
   "metadata": {},
   "outputs": [],
   "source": []
  }
 ],
 "metadata": {
  "kernelspec": {
   "display_name": "Python 3 (ipykernel)",
   "language": "python",
   "name": "python3"
  },
  "language_info": {
   "codemirror_mode": {
    "name": "ipython",
    "version": 3
   },
   "file_extension": ".py",
   "mimetype": "text/x-python",
   "name": "python",
   "nbconvert_exporter": "python",
   "pygments_lexer": "ipython3",
   "version": "3.11.4"
  }
 },
 "nbformat": 4,
 "nbformat_minor": 5
}
