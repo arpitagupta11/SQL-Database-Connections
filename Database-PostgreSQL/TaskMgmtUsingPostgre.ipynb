{
 "cells": [
  {
   "cell_type": "markdown",
   "id": "5fcaae8a-b297-4694-bc28-e1d40144ed78",
   "metadata": {},
   "source": [
    "# Task Management System\n",
    "\n",
    "\n",
    "## Libraries Used\n",
    "\n",
    "### `psycopg2`\n",
    "\n",
    "```markdown\n",
    "- **Description**: A PostgreSQL adapter for the Python programming language. It allows Python code to interact with PostgreSQL databases.\n",
    "- **Installation**: \n",
    "  ```sh\n",
    "  pip install psycopg2-binary"
   ]
  },
  {
   "cell_type": "code",
   "execution_count": 1,
   "id": "9ae8531f-569d-482f-98ee-141b43b29eca",
   "metadata": {},
   "outputs": [],
   "source": [
    "import psycopg2"
   ]
  },
  {
   "cell_type": "code",
   "execution_count": 2,
   "id": "1a83a762-ef84-4e37-9e6f-142581ca80cc",
   "metadata": {},
   "outputs": [],
   "source": [
    "# Establish a connection to the PostgreSQL database\n",
    "conn = psycopg2.connect(\n",
    "    dbname=\"TaskManagementSystem\",\n",
    "    user=\"postgres\",\n",
    "    password=\"arpita11\",\n",
    "    host=\"localhost\",\n",
    "    port=\"5432\"\n",
    ")\n",
    "\n",
    "# Create a cursor object\n",
    "cursor = conn.cursor()"
   ]
  },
  {
   "cell_type": "markdown",
   "id": "897f035d-6c0d-43ad-a0f9-21f0a2265f91",
   "metadata": {},
   "source": [
    "##### Add a New Task:"
   ]
  },
  {
   "cell_type": "code",
   "execution_count": 3,
   "id": "a910b085-bcbd-4cdc-91a8-9765b22c2c5a",
   "metadata": {},
   "outputs": [],
   "source": [
    "def add_task(title , description=None , due_date=None, status='Pending'):\n",
    "    query = '''\n",
    "    INSERT INTO tasks(title , description , due_date , status)\n",
    "    VALUES (%s , %s , %s , %s)\n",
    "    '''\n",
    "    cursor.execute(query , (title , description , due_date , status))\n",
    "    conn.commit()\n",
    "    print(\"Task added Successfully.\")"
   ]
  },
  {
   "cell_type": "markdown",
   "id": "bb43e669-7da6-40c0-90b9-cd889bd567c4",
   "metadata": {},
   "source": [
    "##### View All Tasks:\n"
   ]
  },
  {
   "cell_type": "code",
   "execution_count": 4,
   "id": "2629be5f-e9b4-41fa-b486-87d664eec7fb",
   "metadata": {},
   "outputs": [],
   "source": [
    "def view_tasks():\n",
    "    cursor.execute('SELECT * FROM tasks')\n",
    "    records = cursor.fetchall()\n",
    "    print(\"task records:\")\n",
    "    for record in records:\n",
    "        print(record)"
   ]
  },
  {
   "cell_type": "markdown",
   "id": "79671b88-0603-40dd-8307-14b09f9ee1c6",
   "metadata": {},
   "source": [
    "##### Update Task Information:"
   ]
  },
  {
   "cell_type": "code",
   "execution_count": 5,
   "id": "7f61defa-cd04-4329-bf01-41aacfd74399",
   "metadata": {},
   "outputs": [],
   "source": [
    "def update_task(task_id, title=None, description=None, due_date=None, status=None):\n",
    "    query = 'UPDATE tasks SET'\n",
    "    params = []\n",
    "    if title:\n",
    "        query += ' title = %s,'\n",
    "        params.append(title)\n",
    "    if description:\n",
    "        query += ' description = %s,'\n",
    "        params.append(description)\n",
    "    if due_date:\n",
    "        query += ' due_date = %s,'\n",
    "        params.append(due_date)\n",
    "    if status:\n",
    "        query += ' status = %s,'\n",
    "        params.append(status)\n",
    "    \n",
    "    query = query.rstrip(',') + ' WHERE id = %s'\n",
    "    params.append(task_id)\n",
    "\n",
    "    cursor.execute(query, params)\n",
    "    conn.commit()\n",
    "    print(\"Task updated successfully.\")\n"
   ]
  },
  {
   "cell_type": "markdown",
   "id": "3fc7d575-4d9e-40f6-a658-3a7fdf08cf5b",
   "metadata": {},
   "source": [
    "##### Remove a Task:"
   ]
  },
  {
   "cell_type": "code",
   "execution_count": 6,
   "id": "643837fb-e238-46a0-a775-a7aaedfe7c8e",
   "metadata": {},
   "outputs": [],
   "source": [
    "def remove_task(task_id):\n",
    "    cursor.execute('DELETE FROM tasks WHERE id = %s', (task_id,))\n",
    "    conn.commit()\n",
    "    print(\"Task removed successfully.\")"
   ]
  },
  {
   "cell_type": "code",
   "execution_count": 7,
   "id": "03320495-a0ec-405e-876e-4e6393723077",
   "metadata": {},
   "outputs": [
    {
     "name": "stdout",
     "output_type": "stream",
     "text": [
      "Task added Successfully.\n",
      "Task added Successfully.\n",
      "Task added Successfully.\n",
      "Task added Successfully.\n",
      "Task added Successfully.\n",
      "Task added Successfully.\n",
      "Task added Successfully.\n",
      "Task added Successfully.\n"
     ]
    }
   ],
   "source": [
    "add_task(\"Complete Project Report\", \"Finish the final report for the project.\", \"2024-09-30\", \"In Progress\")\n",
    "add_task(\"Update Website\", \"Revise the content on the company website.\", \"2024-09-20\", \"In Progress\")\n",
    "add_task(\"Review Code\", \"Conduct a code review for the new feature.\", \"2024-09-18\", \"Pending\")\n",
    "add_task(\"Send Newsletter\", \"Draft and send the monthly newsletter to subscribers.\", \"2024-09-10\", \"Completed\")\n",
    "add_task(\"Organize Team Event\", \"Plan and organize the team-building event.\", \"2024-09-25\", \"Pending\")\n",
    "add_task(\"Conduct Training\", \"Host a training session for new employees.\", \"2024-09-28\", \"In Progress\")\n",
    "add_task(\"Implement Feedback\", \"Incorporate feedback from the client into the project.\", \"2024-09-22\", \"Pending\")\n",
    "add_task(\"Review Budget\", \"Analyze and review the quarterly budget.\", \"2024-09-12\", \"Completed\")\n"
   ]
  },
  {
   "cell_type": "code",
   "execution_count": 8,
   "id": "186bfec0-7f2e-48ac-b8ef-1b1eb0c5385b",
   "metadata": {},
   "outputs": [
    {
     "name": "stdout",
     "output_type": "stream",
     "text": [
      "Task updated successfully.\n",
      "Task updated successfully.\n",
      "Task updated successfully.\n"
     ]
    }
   ],
   "source": [
    "update_task(2, status=\"Completed\")\n",
    "update_task(3, description=\"Conduct a thorough code review for the new feature.\", due_date=\"2024-09-20\")\n",
    "update_task(5, title=\"Organize Team Building Event\", due_date=\"2024-09-27\", status=\"In Progress\")\n"
   ]
  },
  {
   "cell_type": "code",
   "execution_count": 9,
   "id": "45c2c9bf-d3f6-498b-b4f1-9679391ebb62",
   "metadata": {},
   "outputs": [
    {
     "name": "stdout",
     "output_type": "stream",
     "text": [
      "Task removed successfully.\n"
     ]
    }
   ],
   "source": [
    "remove_task(4)\n"
   ]
  },
  {
   "cell_type": "code",
   "execution_count": 10,
   "id": "51a3fc10-46ae-4c42-a3bb-c38c74713b83",
   "metadata": {},
   "outputs": [
    {
     "name": "stdout",
     "output_type": "stream",
     "text": [
      "task records:\n",
      "(1, 'Complete Project Report', 'Finish the final report for the project.', datetime.date(2024, 9, 30), 'In Progress')\n",
      "(6, 'Conduct Training', 'Host a training session for new employees.', datetime.date(2024, 9, 28), 'In Progress')\n",
      "(7, 'Implement Feedback', 'Incorporate feedback from the client into the project.', datetime.date(2024, 9, 22), 'Pending')\n",
      "(8, 'Review Budget', 'Analyze and review the quarterly budget.', datetime.date(2024, 9, 12), 'Completed')\n",
      "(2, 'Update Website', 'Revise the content on the company website.', datetime.date(2024, 9, 20), 'Completed')\n",
      "(3, 'Review Code', 'Conduct a thorough code review for the new feature.', datetime.date(2024, 9, 20), 'Pending')\n",
      "(5, 'Organize Team Building Event', 'Plan and organize the team-building event.', datetime.date(2024, 9, 27), 'In Progress')\n"
     ]
    }
   ],
   "source": [
    "view_tasks()"
   ]
  },
  {
   "cell_type": "code",
   "execution_count": 11,
   "id": "b0f75afb-4400-4ddb-8c9b-abd8a24a950e",
   "metadata": {},
   "outputs": [],
   "source": [
    "cursor.close()\n",
    "conn.close()"
   ]
  },
  {
   "cell_type": "code",
   "execution_count": null,
   "id": "5fe5f9b1-8eef-43dc-a7bf-e5e098b9e776",
   "metadata": {},
   "outputs": [],
   "source": []
  }
 ],
 "metadata": {
  "kernelspec": {
   "display_name": "Python 3 (ipykernel)",
   "language": "python",
   "name": "python3"
  },
  "language_info": {
   "codemirror_mode": {
    "name": "ipython",
    "version": 3
   },
   "file_extension": ".py",
   "mimetype": "text/x-python",
   "name": "python",
   "nbconvert_exporter": "python",
   "pygments_lexer": "ipython3",
   "version": "3.11.4"
  }
 },
 "nbformat": 4,
 "nbformat_minor": 5
}
