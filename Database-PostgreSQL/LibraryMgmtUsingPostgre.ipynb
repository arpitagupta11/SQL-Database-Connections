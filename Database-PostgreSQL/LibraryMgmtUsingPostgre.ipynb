{
 "cells": [
  {
   "cell_type": "markdown",
   "id": "413f1d4e-2755-4fec-b724-7efb94d0eae2",
   "metadata": {},
   "source": [
    "# Library Management System\n",
    "\n",
    "\n",
    "## Libraries Used\n",
    "\n",
    "### `psycopg2`\n",
    "\n",
    "```markdown\n",
    "- **Description**: A PostgreSQL adapter for the Python programming language. It allows Python code to interact with PostgreSQL databases.\n",
    "- **Installation**: \n",
    "  ```sh\n",
    "  pip install psycopg2-binary\n"
   ]
  },
  {
   "cell_type": "code",
   "execution_count": 1,
   "id": "839a68dc-571e-4ff5-9e3f-f5962c745a57",
   "metadata": {},
   "outputs": [],
   "source": [
    "import psycopg2"
   ]
  },
  {
   "cell_type": "code",
   "execution_count": 2,
   "id": "51537c36-4084-4240-9d8b-db8fc1c637c8",
   "metadata": {},
   "outputs": [],
   "source": [
    "# Establish a connection to the PostgreSQL database\n",
    "conn = psycopg2.connect(\n",
    "    dbname=\"LibraryManagementSystem\",\n",
    "    user=\"postgres\",\n",
    "    password=\"arpita11\",\n",
    "    host=\"localhost\",\n",
    "    port=\"5432\"\n",
    ")\n",
    "\n",
    "# Create a cursor object\n",
    "cursor = conn.cursor()\n"
   ]
  },
  {
   "cell_type": "markdown",
   "id": "cdd8f5fc-5e89-4092-8bfd-5cbc0ae79a50",
   "metadata": {},
   "source": [
    "#### Implement CRUD Operations:\n",
    "##### Add a New Book:"
   ]
  },
  {
   "cell_type": "code",
   "execution_count": 3,
   "id": "7809489b-0f34-4318-b9da-b14f61d0bec4",
   "metadata": {},
   "outputs": [],
   "source": [
    "def add_book(title, author, genre, published_year ):\n",
    "    query = '''\n",
    "    INSERT INTO books(title, author , genre, published_year)\n",
    "    VALUES (%s , %s, %s , %s)\n",
    "    '''\n",
    "    cursor.execute(query, (title , author , genre , published_year))\n",
    "    conn.commit()\n",
    "    print(\"Book added successfully.\")"
   ]
  },
  {
   "cell_type": "markdown",
   "id": "e101230c-e86a-4dd0-9e3f-41bde13a6a12",
   "metadata": {},
   "source": [
    "##### View All Books:"
   ]
  },
  {
   "cell_type": "code",
   "execution_count": 4,
   "id": "63e557f2-0bce-40bd-a86f-aad3e5883710",
   "metadata": {},
   "outputs": [],
   "source": [
    "def view_books():\n",
    "    cursor.execute('SELECT * FROM books')\n",
    "    records = cursor.fetchall()\n",
    "    print(\"Book Records:\")\n",
    "    for record in records:\n",
    "        print(record)"
   ]
  },
  {
   "cell_type": "markdown",
   "id": "0d16b9e9-2f40-4358-a1ff-37d8c6fbeed7",
   "metadata": {},
   "source": [
    "##### Update Book Information:"
   ]
  },
  {
   "cell_type": "code",
   "execution_count": 5,
   "id": "5d944dc7-c8d4-4d42-9014-5de5b7ded8c3",
   "metadata": {},
   "outputs": [],
   "source": [
    "def update_book(book_id, title=None, author=None, genre=None, published_year=None, status=None):\n",
    "    query = 'UPDATE books SET'\n",
    "    params = []\n",
    "    if title:\n",
    "        query += ' title = %s,'\n",
    "        params.append(title)\n",
    "    if author:\n",
    "        query += ' author = %s,'\n",
    "        params.append(author)\n",
    "    if genre:\n",
    "        query += ' genre = %s,'\n",
    "        params.append(genre)\n",
    "    if published_year:\n",
    "        query += ' published_year = %s,'\n",
    "        params.append(published_year)\n",
    "    if status:\n",
    "        query += ' status = %s,'\n",
    "        params.append(status)\n",
    "    \n",
    "    query = query.rstrip(',') + ' WHERE id = %s'\n",
    "    params.append(book_id)\n",
    "\n",
    "    cursor.execute(query, params)\n",
    "    conn.commit()\n",
    "    print(\"Book updated successfully.\")\n"
   ]
  },
  {
   "cell_type": "markdown",
   "id": "70b8cca4-ab1f-4c51-9c4d-72c773eba7ea",
   "metadata": {},
   "source": [
    "##### Delete a book:"
   ]
  },
  {
   "cell_type": "code",
   "execution_count": 6,
   "id": "fee2c880-0a7b-4280-86ee-17a5b5607bf7",
   "metadata": {},
   "outputs": [],
   "source": [
    "def remove_book(book_id):\n",
    "    cursor.execute('DELETE FROM books WHERE id = %s' , (book_id,))\n",
    "    conn.commit()\n",
    "    print(\"Book removed successfully.\")"
   ]
  },
  {
   "cell_type": "code",
   "execution_count": 7,
   "id": "af710b1f-d2ce-450a-a963-0482f2c99361",
   "metadata": {},
   "outputs": [
    {
     "name": "stdout",
     "output_type": "stream",
     "text": [
      "Book added successfully.\n",
      "Book added successfully.\n",
      "Book added successfully.\n",
      "Book added successfully.\n",
      "Book added successfully.\n",
      "Book added successfully.\n",
      "Book added successfully.\n",
      "Book added successfully.\n",
      "Book added successfully.\n",
      "Book added successfully.\n"
     ]
    }
   ],
   "source": [
    "add_book(\"The Great Gatsby\", \"F. Scott Fitzgerald\", \"Classic\", 1925)\n",
    "add_book(\"To Kill a Mockingbird\", \"Harper Lee\", \"Fiction\", 1960)\n",
    "add_book(\"Dune\", \"Frank Herbert\", \"Science Fiction\", 1965)\n",
    "add_book(\"The Hound of the Baskervilles\", \"Arthur Conan Doyle\", \"Mystery\", 1902)\n",
    "add_book(\"Sapiens: A Brief History of Humankind\", \"Yuval Noah Harari\", \"Non-Fiction\", 2011)\n",
    "add_book(\"Pride and Prejudice\", \"Jane Austen\", \"Classic\", 1813)\n",
    "add_book(\"Harry Potter and the Sorcerer's Stone\", \"J.K. Rowling\", \"Fantasy\", 1997)\n",
    "add_book(\"The Diary of a Young Girl\", \"Anne Frank\", \"Biography\", 1947)\n",
    "add_book(\"The Book Thief\", \"Markus Zusak\", \"Historical Fiction\", 2005)\n",
    "add_book(\"Gone with the Wind\", \"Margaret Mitchell\", \"Romance\", 1936)"
   ]
  },
  {
   "cell_type": "code",
   "execution_count": 8,
   "id": "e3f07fea-b88a-4d79-935e-1b3b94cfd018",
   "metadata": {},
   "outputs": [
    {
     "name": "stdout",
     "output_type": "stream",
     "text": [
      "Book updated successfully.\n",
      "Book updated successfully.\n"
     ]
    }
   ],
   "source": [
    "update_book(1, status=\"Checked Out\")\n",
    "update_book(2, author=\"Frank Herbert (Updated)\")\n"
   ]
  },
  {
   "cell_type": "code",
   "execution_count": 9,
   "id": "954851f2-94bd-481f-9609-f14f72bbc988",
   "metadata": {},
   "outputs": [
    {
     "name": "stdout",
     "output_type": "stream",
     "text": [
      "Book removed successfully.\n"
     ]
    }
   ],
   "source": [
    "remove_book(5)\n"
   ]
  },
  {
   "cell_type": "code",
   "execution_count": 10,
   "id": "b493ff0a-3c97-42d3-abfd-d01fe22a33f6",
   "metadata": {},
   "outputs": [
    {
     "name": "stdout",
     "output_type": "stream",
     "text": [
      "Book Records:\n",
      "(3, 'Dune', 'Frank Herbert', 'Science Fiction', 1965, 'Available')\n",
      "(4, 'The Hound of the Baskervilles', 'Arthur Conan Doyle', 'Mystery', 1902, 'Available')\n",
      "(6, 'Pride and Prejudice', 'Jane Austen', 'Classic', 1813, 'Available')\n",
      "(7, \"Harry Potter and the Sorcerer's Stone\", 'J.K. Rowling', 'Fantasy', 1997, 'Available')\n",
      "(8, 'The Diary of a Young Girl', 'Anne Frank', 'Biography', 1947, 'Available')\n",
      "(9, 'The Book Thief', 'Markus Zusak', 'Historical Fiction', 2005, 'Available')\n",
      "(10, 'Gone with the Wind', 'Margaret Mitchell', 'Romance', 1936, 'Available')\n",
      "(1, 'The Great Gatsby', 'F. Scott Fitzgerald', 'Classic', 1925, 'Checked Out')\n",
      "(2, 'To Kill a Mockingbird', 'Frank Herbert (Updated)', 'Fiction', 1960, 'Available')\n"
     ]
    }
   ],
   "source": [
    "view_books()"
   ]
  },
  {
   "cell_type": "code",
   "execution_count": 11,
   "id": "dfafd4e6-f17f-466e-95cb-cec7b2e7f888",
   "metadata": {},
   "outputs": [],
   "source": [
    "cursor.close()\n",
    "conn.close()"
   ]
  },
  {
   "cell_type": "code",
   "execution_count": null,
   "id": "2ceb0eda-b8c4-47a9-ac23-1b55d290bf17",
   "metadata": {},
   "outputs": [],
   "source": []
  }
 ],
 "metadata": {
  "kernelspec": {
   "display_name": "Python 3 (ipykernel)",
   "language": "python",
   "name": "python3"
  },
  "language_info": {
   "codemirror_mode": {
    "name": "ipython",
    "version": 3
   },
   "file_extension": ".py",
   "mimetype": "text/x-python",
   "name": "python",
   "nbconvert_exporter": "python",
   "pygments_lexer": "ipython3",
   "version": "3.11.4"
  }
 },
 "nbformat": 4,
 "nbformat_minor": 5
}
