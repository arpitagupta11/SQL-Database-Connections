{
 "cells": [
  {
   "cell_type": "markdown",
   "id": "96a8c1ed-a701-4805-90d7-1884aa5fc4d0",
   "metadata": {},
   "source": [
    "# Contact Management System\n",
    "\n",
    "\n",
    "## Libraries Used\n",
    "\n",
    "### `psycopg2`\n",
    "\n",
    "```markdown\n",
    "- **Description**: A PostgreSQL adapter for the Python programming language. It allows Python code to interact with PostgreSQL databases.\n",
    "- **Installation**: \n",
    "  ```sh\n",
    "  pip install psycopg2-binary"
   ]
  },
  {
   "cell_type": "code",
   "execution_count": 1,
   "id": "89379f92-dd87-45f3-864a-d15881cceb5b",
   "metadata": {},
   "outputs": [],
   "source": [
    "import psycopg2"
   ]
  },
  {
   "cell_type": "code",
   "execution_count": 3,
   "id": "32ed3057-1a01-4642-8ffb-72e5cf3afca0",
   "metadata": {},
   "outputs": [],
   "source": [
    "# Establish a connection to the PostgreSQL database\n",
    "conn = psycopg2.connect(\n",
    "    dbname=\"ContactManagementSystem\",\n",
    "    user=\"postgres\",\n",
    "    password=\"arpita11\",\n",
    "    host=\"localhost\",\n",
    "    port=\"5432\"\n",
    ")\n",
    "\n",
    "# Create a cursor object\n",
    "cursor = conn.cursor()"
   ]
  },
  {
   "cell_type": "markdown",
   "id": "a35fa99b-1d2f-4317-bea5-8c7ace7686a3",
   "metadata": {},
   "source": [
    "##### Add a New Contact:"
   ]
  },
  {
   "cell_type": "code",
   "execution_count": 4,
   "id": "6be823fe-f50e-41e6-96d6-2328043c95f3",
   "metadata": {},
   "outputs": [],
   "source": [
    "def add_contact(first_name, last_name=None, phone_number=None, email=None, address=None):\n",
    "    query = '''\n",
    "    INSERT INTO contacts (first_name, last_name, phone_number, email, address)\n",
    "    VALUES (%s, %s, %s, %s, %s)\n",
    "    '''\n",
    "    cursor.execute(query, (first_name, last_name, phone_number, email, address))\n",
    "    conn.commit()\n",
    "    print(\"Contact added successfully.\")"
   ]
  },
  {
   "cell_type": "markdown",
   "id": "704847af-92cd-4f2e-aea5-9241865fc5f8",
   "metadata": {},
   "source": [
    "##### View All Contacts:"
   ]
  },
  {
   "cell_type": "code",
   "execution_count": 5,
   "id": "81b64cb8-7c3e-43a7-b708-fc3b75ea2545",
   "metadata": {},
   "outputs": [],
   "source": [
    "def view_contacts():\n",
    "    cursor.execute('SELECT * FROM contacts')\n",
    "    records = cursor.fetchall()\n",
    "    print(\"Contact Records:\")\n",
    "    for record in records:\n",
    "        print(record)\n"
   ]
  },
  {
   "cell_type": "markdown",
   "id": "9452eb8f-3d2c-4c7c-889a-5431de0cf646",
   "metadata": {},
   "source": [
    "##### Update Contact Information:"
   ]
  },
  {
   "cell_type": "code",
   "execution_count": 7,
   "id": "1f508640-de81-4953-93a9-9d71b3042511",
   "metadata": {},
   "outputs": [],
   "source": [
    "def update_contact(contact_id, first_name=None, last_name=None, phone_number=None, email=None, address=None):\n",
    "    query = 'UPDATE contacts SET'\n",
    "    params = []\n",
    "    if first_name:\n",
    "        query += ' first_name = %s,'\n",
    "        params.append(first_name)\n",
    "    if last_name:\n",
    "        query += ' last_name = %s,'\n",
    "        params.append(last_name)\n",
    "    if phone_number:\n",
    "        query += ' phone_number = %s,'\n",
    "        params.append(phone_number)\n",
    "    if email:\n",
    "        query += ' email = %s,'\n",
    "        params.append(email)\n",
    "    if address:\n",
    "        query += ' address = %s,'\n",
    "        params.append(address)\n",
    "    \n",
    "    query = query.rstrip(',') + ' WHERE id = %s'\n",
    "    params.append(contact_id)\n",
    "\n",
    "    cursor.execute(query, params)\n",
    "    conn.commit()\n",
    "    print(\"Contact updated successfully.\")\n"
   ]
  },
  {
   "cell_type": "markdown",
   "id": "56638bd0-04c5-405f-9ea7-659058911254",
   "metadata": {},
   "source": [
    "##### Remove a Contact:"
   ]
  },
  {
   "cell_type": "code",
   "execution_count": 8,
   "id": "b3e656b2-ee6a-42aa-a2ce-b42afc2b850b",
   "metadata": {},
   "outputs": [],
   "source": [
    "def remove_contact(contact_id):\n",
    "    cursor.execute('DELETE FROM contacts WHERE id = %s', (contact_id,))\n",
    "    conn.commit()\n",
    "    print(\"Contact removed successfully.\")\n"
   ]
  },
  {
   "cell_type": "code",
   "execution_count": 9,
   "id": "85178f29-6115-4293-8482-4d1593cced14",
   "metadata": {},
   "outputs": [
    {
     "name": "stdout",
     "output_type": "stream",
     "text": [
      "Contact added successfully.\n"
     ]
    }
   ],
   "source": [
    "# Add a contact\n",
    "add_contact(\"John\", \"Doe\", \"123-456-7890\", \"john.doe@example.com\", \"123 Elm Street\")"
   ]
  },
  {
   "cell_type": "code",
   "execution_count": 10,
   "id": "bfb5d64c-29b0-4e2c-9abd-2ceec0db8ed5",
   "metadata": {},
   "outputs": [
    {
     "name": "stdout",
     "output_type": "stream",
     "text": [
      "Contact Records:\n",
      "(1, 'John', 'Doe', '123-456-7890', 'john.doe@example.com', '123 Elm Street')\n"
     ]
    }
   ],
   "source": [
    "view_contacts()"
   ]
  },
  {
   "cell_type": "code",
   "execution_count": 11,
   "id": "72cbf908-4d89-464c-8a1f-958c54038875",
   "metadata": {},
   "outputs": [
    {
     "name": "stdout",
     "output_type": "stream",
     "text": [
      "Contact updated successfully.\n"
     ]
    }
   ],
   "source": [
    "update_contact(1, phone_number=\"987-654-3210\", email=\"john.doe@newemail.com\")\n"
   ]
  },
  {
   "cell_type": "code",
   "execution_count": 12,
   "id": "d247e1f4-40ae-4b3b-b750-6929f5165e5d",
   "metadata": {},
   "outputs": [],
   "source": [
    "conn.close()\n",
    "cursor.close()"
   ]
  },
  {
   "cell_type": "code",
   "execution_count": null,
   "id": "b82023ba-7461-487f-8c56-bfd916a527f2",
   "metadata": {},
   "outputs": [],
   "source": []
  }
 ],
 "metadata": {
  "kernelspec": {
   "display_name": "Python 3 (ipykernel)",
   "language": "python",
   "name": "python3"
  },
  "language_info": {
   "codemirror_mode": {
    "name": "ipython",
    "version": 3
   },
   "file_extension": ".py",
   "mimetype": "text/x-python",
   "name": "python",
   "nbconvert_exporter": "python",
   "pygments_lexer": "ipython3",
   "version": "3.11.4"
  }
 },
 "nbformat": 4,
 "nbformat_minor": 5
}
