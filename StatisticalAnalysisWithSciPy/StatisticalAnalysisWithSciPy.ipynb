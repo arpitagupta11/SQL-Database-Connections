{
 "cells": [
  {
   "cell_type": "code",
   "execution_count": 2,
   "id": "26e51d93-1bf5-4a31-a18b-7c54c5e705c7",
   "metadata": {},
   "outputs": [],
   "source": [
    "from scipy import stats"
   ]
  },
  {
   "cell_type": "markdown",
   "id": "6ea14d4c-4fa7-4dc7-a8eb-c6fbc2ea1bf6",
   "metadata": {},
   "source": [
    "## Parametric Tests\n",
    "### 1. t-Test"
   ]
  },
  {
   "cell_type": "markdown",
   "id": "ff4800e8-8679-4017-8d87-df2fbc36d2c0",
   "metadata": {},
   "source": [
    "#### 1.1 Independent t-Test (ttest_ind)"
   ]
  },
  {
   "cell_type": "code",
   "execution_count": 3,
   "id": "6764639d-0841-4ea1-868b-1fe969557703",
   "metadata": {},
   "outputs": [
    {
     "name": "stdout",
     "output_type": "stream",
     "text": [
      "T-statistic: 0.8705715001320147, P-value: 0.4093500405943977\n"
     ]
    }
   ],
   "source": [
    "group1 = [10, 12 , 14 , 15 , 16 ]\n",
    "group2 = [10,11,12,13,15]\n",
    "t_stat , p_val = stats.ttest_ind(group1 , group2)\n",
    "print(f\"T-statistic: {t_stat}, P-value: {p_val}\")"
   ]
  },
  {
   "cell_type": "markdown",
   "id": "dca6ecc9-a7ed-4d28-a096-51bafc444b7c",
   "metadata": {},
   "source": [
    "#### 1.2 Paired t-Test (ttest_rel)"
   ]
  },
  {
   "cell_type": "code",
   "execution_count": 3,
   "id": "c8e40565-5812-4e85-9af5-0838354bb686",
   "metadata": {},
   "outputs": [
    {
     "name": "stdout",
     "output_type": "stream",
     "text": [
      "T-statistic: -2.9938207967349957, P-value: 0.04018621825542524\n"
     ]
    }
   ],
   "source": [
    "# Perform paired t-test\n",
    "pre_test = [89, 91, 93, 94, 100]\n",
    "post_test = [90 , 94, 96 , 98 , 100]\n",
    "t_stat, p_val = stats.ttest_rel(pre_test, post_test)\n",
    "\n",
    "print(f\"T-statistic: {t_stat}, P-value: {p_val}\")"
   ]
  },
  {
   "cell_type": "markdown",
   "id": "b85c3d26-d0e4-4f66-97ed-3367c9b41471",
   "metadata": {},
   "source": [
    "#### 1.3 One-Sample t-Test (ttest_1samp)"
   ]
  },
  {
   "cell_type": "code",
   "execution_count": 4,
   "id": "7391b924-1d11-4c50-9ff2-cc1f871835a3",
   "metadata": {},
   "outputs": [
    {
     "name": "stdout",
     "output_type": "stream",
     "text": [
      "T-statistic: -0.4965635331614161, P-value: 0.6455470832456099\n"
     ]
    }
   ],
   "source": [
    "# Sample data\n",
    "sample_data = [85, 90, 88, 92, 87]\n",
    "population_mean = 89\n",
    "\n",
    "# Perform one-sample t-test\n",
    "t_stat, p_val = stats.ttest_1samp(sample_data, population_mean)\n",
    "\n",
    "print(f\"T-statistic: {t_stat}, P-value: {p_val}\")"
   ]
  },
  {
   "cell_type": "markdown",
   "id": "446369f0-74c8-48d8-a4f7-1d7ba9cfde3c",
   "metadata": {},
   "source": [
    "### 2. ANOVA (Analysis of Variance)\n",
    "#### ANOVA is used to compare the means of three or more groups to determine if there are any significant differences among them.\n",
    "#### 2.1 One-Way ANOVA (f_oneway)"
   ]
  },
  {
   "cell_type": "code",
   "execution_count": 6,
   "id": "b6c265f3-1802-4485-8d99-8e3361de094b",
   "metadata": {},
   "outputs": [
    {
     "name": "stdout",
     "output_type": "stream",
     "text": [
      "F-statistic: 19.538461538461515, P-value: 0.00016816635614339348\n"
     ]
    }
   ],
   "source": [
    "# Sample data\n",
    "diet1 = [5, 7, 6, 8, 7]\n",
    "diet2 = [9, 10, 11, 12, 10]\n",
    "diet3 = [6, 5, 7, 8, 6]\n",
    "\n",
    "# Perform one-way ANOVA\n",
    "f_stat, p_val = stats.f_oneway(diet1, diet2, diet3)\n",
    "\n",
    "print(f\"F-statistic: {f_stat}, P-value: {p_val}\")"
   ]
  },
  {
   "cell_type": "markdown",
   "id": "134f13d9-db14-4c3a-81ce-388f6584e10f",
   "metadata": {},
   "source": [
    "### 3. Pearson Correlation Coefficient (pearsonr)\n",
    "#### Purpose: To measure the strength and direction of the linear relationship between two continuous variables.\n"
   ]
  },
  {
   "cell_type": "code",
   "execution_count": 7,
   "id": "36a18fe2-4088-4b80-a7b5-df8c4385978c",
   "metadata": {},
   "outputs": [
    {
     "name": "stdout",
     "output_type": "stream",
     "text": [
      "Pearson Correlation Coefficient: 1.0, P-value: 0.0\n"
     ]
    }
   ],
   "source": [
    "# Sample data\n",
    "hours_studied = [1, 2, 3, 4, 5]\n",
    "exam_scores = [55, 60, 65, 70, 75]\n",
    "\n",
    "# Calculate Pearson correlation coefficient\n",
    "corr_coeff, p_val = stats.pearsonr(hours_studied, exam_scores)\n",
    "\n",
    "print(f\"Pearson Correlation Coefficient: {corr_coeff}, P-value: {p_val}\")"
   ]
  },
  {
   "cell_type": "markdown",
   "id": "9434f482-5d8d-4456-ac2d-afb98279cdfc",
   "metadata": {},
   "source": [
    "## Non-Parametric Tests\n",
    "### 1. Mann-Whitney U Test (mannwhitneyu)\n",
    "#### Purpose: To compare differences between two independent groups when the data is not normally distributed."
   ]
  },
  {
   "cell_type": "code",
   "execution_count": 8,
   "id": "d28fa0fe-5863-4355-b6ec-6cbca141e703",
   "metadata": {},
   "outputs": [
    {
     "name": "stdout",
     "output_type": "stream",
     "text": [
      "U-statistic: 0.0, P-value: 0.007936507936507936\n"
     ]
    }
   ],
   "source": [
    "from scipy import stats\n",
    "\n",
    "# Sample data\n",
    "group1 = [23, 21, 18, 24, 26]\n",
    "group2 = [30, 32, 34, 29, 31]\n",
    "\n",
    "# Perform Mann-Whitney U test\n",
    "u_stat, p_val = stats.mannwhitneyu(group1, group2)\n",
    "\n",
    "print(f\"U-statistic: {u_stat}, P-value: {p_val}\")"
   ]
  },
  {
   "cell_type": "markdown",
   "id": "fbac0b4a-283d-494f-ae07-e5ca6b3927ba",
   "metadata": {},
   "source": [
    "### 2. Wilcoxon Signed-Rank Test (wilcoxon)\n",
    "#### Purpose: To compare two related samples or matched pairs. It is used when the data is not normally distributed."
   ]
  },
  {
   "cell_type": "code",
   "execution_count": 10,
   "id": "c964ecdd-d9ee-4886-8e26-34d8c97ca675",
   "metadata": {},
   "outputs": [
    {
     "name": "stdout",
     "output_type": "stream",
     "text": [
      "Wilcoxon statistic: 0.0, P-value: 0.0625\n"
     ]
    }
   ],
   "source": [
    "# Sample data\n",
    "pre_test = [88, 92, 85, 91, 87]\n",
    "post_test = [90, 94, 88, 93, 89]\n",
    "\n",
    "# Perform Wilcoxon signed-rank test\n",
    "w_stat, p_val = stats.wilcoxon(pre_test, post_test)\n",
    "\n",
    "print(f\"Wilcoxon statistic: {w_stat}, P-value: {p_val}\")"
   ]
  },
  {
   "cell_type": "markdown",
   "id": "da97ef85-ef8e-4963-a2c9-3b3075779054",
   "metadata": {},
   "source": [
    "### 3. Kruskal-Wallis Test (kruskal)\n",
    "#### Purpose: To compare the medians of three or more independent groups. It is a non-parametric alternative to one-way ANOVA."
   ]
  },
  {
   "cell_type": "code",
   "execution_count": 12,
   "id": "191477bb-251e-4d8d-92c0-a6d210ba7521",
   "metadata": {},
   "outputs": [
    {
     "name": "stdout",
     "output_type": "stream",
     "text": [
      "H-statistic: 9.608743169398917, P-value: 0.008193848536604539\n"
     ]
    }
   ],
   "source": [
    "# Sample data\n",
    "group1 = [5, 7, 6, 8, 7]\n",
    "group2 = [9, 10, 11, 12, 10]\n",
    "group3 = [6, 5, 7, 8, 6]\n",
    "\n",
    "# Perform Kruskal-Wallis test\n",
    "h_stat, p_val = stats.kruskal(group1, group2, group3)\n",
    "\n",
    "print(f\"H-statistic: {h_stat}, P-value: {p_val}\")"
   ]
  },
  {
   "cell_type": "markdown",
   "id": "52bbf97c-ed0a-49a9-a9af-8bfaba4f7c3c",
   "metadata": {},
   "source": [
    "### 4. Spearman Rank Correlation (spearmanr)\n",
    "#### Purpose: To measure the strength and direction of the association between two ranked variables."
   ]
  },
  {
   "cell_type": "code",
   "execution_count": 13,
   "id": "224d7ff3-7370-47cc-b67c-7f75d0c490ad",
   "metadata": {},
   "outputs": [
    {
     "name": "stdout",
     "output_type": "stream",
     "text": [
      "Spearman Correlation Coefficient: -0.9999999999999999, P-value: 1.4042654220543672e-24\n"
     ]
    }
   ],
   "source": [
    "# Sample data\n",
    "ranked_variable1 = [1, 2, 3, 4, 5]\n",
    "ranked_variable2 = [5, 4, 3, 2, 1]\n",
    "\n",
    "# Calculate Spearman rank correlation coefficient\n",
    "corr_coeff, p_val = stats.spearmanr(ranked_variable1, ranked_variable2)\n",
    "\n",
    "print(f\"Spearman Correlation Coefficient: {corr_coeff}, P-value: {p_val}\")"
   ]
  },
  {
   "cell_type": "markdown",
   "id": "ff56d067-571c-4900-a853-595edb1286a4",
   "metadata": {},
   "source": [
    "### 5. Chi-Square Test (chi2_contingency)\n",
    "#### Purpose: To test the independence of two categorical variables in a contingency table."
   ]
  },
  {
   "cell_type": "code",
   "execution_count": 14,
   "id": "b9c3c5b6-09fe-4fa8-8d09-d1335bd0b031",
   "metadata": {},
   "outputs": [
    {
     "name": "stdout",
     "output_type": "stream",
     "text": [
      "Chi-square statistic: 4.8770604395604416, P-value: 0.08728905294832463\n"
     ]
    }
   ],
   "source": [
    "# Sample data: contingency table\n",
    "contingency_table = [[20, 15, 30], [25, 25, 20]]\n",
    "\n",
    "# Perform Chi-Square test\n",
    "chi2_stat, p_val, _, _ = stats.chi2_contingency(contingency_table)\n",
    "\n",
    "print(f\"Chi-square statistic: {chi2_stat}, P-value: {p_val}\")"
   ]
  },
  {
   "cell_type": "markdown",
   "id": "be19816f-538e-4903-a1cb-3216bd731a26",
   "metadata": {},
   "source": [
    "## Goodness of Fit Tests\n",
    "### 1. Chi-Square Goodness of Fit Test\n",
    "#### Purpose: To determine if a sample data matches an expected distribution. It tests if the observed frequencies of a categorical variable differ from the expected frequencies under a certain hypothesis.\n",
    "\n"
   ]
  },
  {
   "cell_type": "code",
   "execution_count": 16,
   "id": "8d9754c8-0da1-45a2-9a44-b1422e453a13",
   "metadata": {},
   "outputs": [
    {
     "name": "stdout",
     "output_type": "stream",
     "text": [
      "Chi-square statistic: 5.0, P-value: 0.0820849986238988\n"
     ]
    }
   ],
   "source": [
    "# Observed frequencies\n",
    "observed = [50, 30, 20]\n",
    "\n",
    "# Expected frequencies (e.g., equal distribution)\n",
    "expected = [40, 40, 20]\n",
    "\n",
    "# Perform Chi-Square Goodness of Fit test\n",
    "chi2_stat, p_val = stats.chisquare(f_obs=observed, f_exp=expected)\n",
    "\n",
    "print(f\"Chi-square statistic: {chi2_stat}, P-value: {p_val}\")"
   ]
  },
  {
   "cell_type": "markdown",
   "id": "7d42a62f-dbcd-4afc-9aad-91891d8980f6",
   "metadata": {},
   "source": [
    "### 2. Kolmogorov-Smirnov Test (kstest)\n",
    "#### Purpose: To compare the empirical distribution of a sample with a theoretical distribution (e.g., normal, exponential). It assesses whether a sample follows a specific distribution."
   ]
  },
  {
   "cell_type": "code",
   "execution_count": 17,
   "id": "b774f1e0-d86c-4562-b292-f08fa30f53de",
   "metadata": {},
   "outputs": [
    {
     "name": "stdout",
     "output_type": "stream",
     "text": [
      "KS-statistic: 0.9712834401839981, P-value: 3.9056385724627266e-08\n"
     ]
    }
   ],
   "source": [
    "# Sample data\n",
    "data = [2.3, 1.9, 2.1, 2.5, 2.7]\n",
    "\n",
    "# Perform Kolmogorov-Smirnov test for normal distribution\n",
    "ks_stat, p_val = stats.kstest(data, 'norm')\n",
    "\n",
    "print(f\"KS-statistic: {ks_stat}, P-value: {p_val}\")"
   ]
  },
  {
   "cell_type": "markdown",
   "id": "96387e36-ba56-4226-92e0-7a7a50a9fe19",
   "metadata": {},
   "source": [
    "## Regression Analysis\n",
    "### 1. Simple Linear Regression\n",
    "#### Purpose: To model the relationship between a single independent variable (predictor) and a dependent variable (response) using a straight line. It helps to understand how changes in the independent variable affect the dependent variable."
   ]
  },
  {
   "cell_type": "code",
   "execution_count": 18,
   "id": "1fe2bee7-73df-4b01-9d73-9b70aa52c776",
   "metadata": {},
   "outputs": [
    {
     "name": "stdout",
     "output_type": "stream",
     "text": [
      "Slope: 0.6000000000000001, Intercept: 2.1999999999999997\n",
      "R-squared: 0.6000000000000002, P-value: 0.12402706265755441\n"
     ]
    },
    {
     "data": {
      "image/png": "[encoded data removed]",
      "text/plain": [
       "<Figure size 640x480 with 1 Axes>"
      ]
     },
     "metadata": {},
     "output_type": "display_data"
    }
   ],
   "source": [
    "import numpy as np\n",
    "import scipy.stats as stats\n",
    "import matplotlib.pyplot as plt\n",
    "\n",
    "# Sample data\n",
    "X = np.array([1, 2, 3, 4, 5])\n",
    "Y = np.array([2, 4, 5, 4, 5])\n",
    "\n",
    "# Perform Simple Linear Regression\n",
    "slope, intercept, r_value, p_value, std_err = stats.linregress(X, Y)\n",
    "\n",
    "print(f\"Slope: {slope}, Intercept: {intercept}\")\n",
    "print(f\"R-squared: {r_value**2}, P-value: {p_value}\")\n",
    "\n",
    "# Plotting\n",
    "plt.scatter(X, Y, color='blue', label='Data points')\n",
    "plt.plot(X, slope * X + intercept, color='red', label='Fitted line')\n",
    "plt.xlabel('X')\n",
    "plt.ylabel('Y')\n",
    "plt.title('Simple Linear Regression')\n",
    "plt.legend()\n",
    "plt.show()"
   ]
  },
  {
   "cell_type": "markdown",
   "id": "5de5db84-ad6d-4bfc-96c3-8f91d76a7972",
   "metadata": {},
   "source": [
    "### 2. Multiple Linear Regression\n",
    "#### Purpose: To model the relationship between two or more independent variables and a dependent variable. It helps to understand how multiple predictors collectively affect the dependent variable."
   ]
  },
  {
   "cell_type": "code",
   "execution_count": 20,
   "id": "4dc25d7b-7bd6-49b1-a06b-513f6680a2b9",
   "metadata": {},
   "outputs": [
    {
     "name": "stdout",
     "output_type": "stream",
     "text": [
      "                            OLS Regression Results                            \n",
      "==============================================================================\n",
      "Dep. Variable:                      Y   R-squared:                       0.066\n",
      "Model:                            OLS   Adj. R-squared:                 -0.089\n",
      "Method:                 Least Squares   F-statistic:                    0.4256\n",
      "Date:                Wed, 25 Sep 2024   Prob (F-statistic):              0.538\n",
      "Time:                        16:58:26   Log-Likelihood:                -12.306\n",
      "No. Observations:                   8   AIC:                             28.61\n",
      "Df Residuals:                       6   BIC:                             28.77\n",
      "Df Model:                           1                                         \n",
      "Covariance Type:            nonrobust                                         \n",
      "==============================================================================\n",
      "                 coef    std err          t      P>|t|      [0.025      0.975]\n",
      "------------------------------------------------------------------------------\n",
      "const          0.0934      0.011      8.425      0.000       0.066       0.120\n",
      "X1             0.4857      0.112      4.333      0.005       0.211       0.760\n",
      "X2             0.3547      0.112      3.165      0.019       0.080       0.629\n",
      "==============================================================================\n",
      "Omnibus:                        1.289   Durbin-Watson:                   2.521\n",
      "Prob(Omnibus):                  0.525   Jarque-Bera (JB):                0.862\n",
      "Skew:                          -0.670   Prob(JB):                        0.650\n",
      "Kurtosis:                       2.111   Cond. No.                     1.91e+17\n",
      "==============================================================================\n",
      "\n",
      "Notes:\n",
      "[1] Standard Errors assume that the covariance matrix of the errors is correctly specified.\n",
      "[2] The smallest eigenvalue is 9.06e-33. This might indicate that there are\n",
      "strong multicollinearity problems or that the design matrix is singular.\n"
     ]
    },
    {
     "name": "stderr",
     "output_type": "stream",
     "text": [
      "C:\\Users\\HP\\AppData\\Roaming\\Python\\Python311\\site-packages\\scipy\\stats\\_stats_py.py:1806: UserWarning: kurtosistest only valid for n>=20 ... continuing anyway, n=8\n",
      "  warnings.warn(\"kurtosistest only valid for n>=20 ... continuing \"\n"
     ]
    }
   ],
   "source": [
    "import statsmodels.api as sm\n",
    "import pandas as pd\n",
    "\n",
    "# Sample data\n",
    "data = pd.DataFrame({\n",
    "    'X1': [1, 2, 3, 4, 5,6,7,8],\n",
    "    'X2': [8,7,6,5, 4, 3, 2, 1],\n",
    "    'Y': [2, 4, 5, 4, 5,2,5,4]\n",
    "})\n",
    "\n",
    "# Define the independent and dependent variables\n",
    "X = data[['X1', 'X2']]\n",
    "y = data['Y']\n",
    "\n",
    "# Add a constant to the model (intercept)\n",
    "X = sm.add_constant(X)\n",
    "\n",
    "# Fit the Multiple Linear Regression model\n",
    "model = sm.OLS(y, X).fit()\n",
    "\n",
    "# Print the summary\n",
    "print(model.summary())"
   ]
  },
  {
   "cell_type": "markdown",
   "id": "ec9738be-bbe8-4398-be39-656857dc3995",
   "metadata": {},
   "source": [
    "## Tests for Proportions\n",
    "### Z-Test for Proportions (proportions_ztest)\n",
    "#### Purpose: To test if the proportion of successes in a sample differs significantly from a hypothesized proportion or if the proportions between two groups are different."
   ]
  },
  {
   "cell_type": "code",
   "execution_count": 21,
   "id": "b419f193-410a-4ea6-b2e8-7526c89b9559",
   "metadata": {},
   "outputs": [
    {
     "name": "stdout",
     "output_type": "stream",
     "text": [
      "Z-statistic: 1.443375672974064, P-value: 0.14891467317876578\n"
     ]
    }
   ],
   "source": [
    "from statsmodels.stats.proportion import proportions_ztest\n",
    "\n",
    "# Sample data\n",
    "successes = 30\n",
    "total = 50\n",
    "hypothesized_proportion = 0.5\n",
    "\n",
    "# Perform Z-Test for proportions\n",
    "z_stat, p_val = proportions_ztest(successes, total, value=hypothesized_proportion)\n",
    "\n",
    "print(f\"Z-statistic: {z_stat}, P-value: {p_val}\")"
   ]
  },
  {
   "cell_type": "markdown",
   "id": "0c9566fd-c5a7-4794-9bb9-22cac4a5bc23",
   "metadata": {},
   "source": [
    "### Example Code for Two-Sample Z-Test:\n",
    "\n"
   ]
  },
  {
   "cell_type": "code",
   "execution_count": 22,
   "id": "0e8c4b55-b4fc-4cb4-b53b-9b584dd8d6de",
   "metadata": {},
   "outputs": [
    {
     "name": "stdout",
     "output_type": "stream",
     "text": [
      "Z-statistic: 0.1564501536068506, P-value: 0.8756782069848489\n"
     ]
    }
   ],
   "source": [
    "# Sample data\n",
    "successes1 = 40\n",
    "total1 = 100\n",
    "successes2 = 35\n",
    "total2 = 90\n",
    "\n",
    "# Perform Z-Test for proportions between two groups\n",
    "z_stat, p_val = proportions_ztest([successes1, successes2], [total1, total2])\n",
    "\n",
    "print(f\"Z-statistic: {z_stat}, P-value: {p_val}\")"
   ]
  },
  {
   "cell_type": "markdown",
   "id": "22a90b22-9b47-4ace-ba9a-923aee8b9bd5",
   "metadata": {},
   "source": [
    "## Other Useful Statistical Tests in SciPy"
   ]
  },
  {
   "cell_type": "markdown",
   "id": "ce26dea9-e98b-4e28-b2cd-b479d6225fe0",
   "metadata": {},
   "source": [
    "### 1. Levene’s Test (levene)\n",
    "#### Purpose: To test the equality of variances across multiple groups. It is used to determine if different samples have the same variance, which is a crucial assumption for many parametric tests (like ANOVA)."
   ]
  },
  {
   "cell_type": "code",
   "execution_count": 23,
   "id": "f4f56c07-2ea7-4922-9e46-ff2527d034ed",
   "metadata": {},
   "outputs": [
    {
     "name": "stdout",
     "output_type": "stream",
     "text": [
      "Levene's Test statistic: 0.18181818181818188, P-value: 0.8360074295644685\n"
     ]
    }
   ],
   "source": [
    "# Sample data for three groups\n",
    "group1 = [23, 21, 19, 24, 20]\n",
    "group2 = [30, 32, 33, 31, 29]\n",
    "group3 = [15, 18, 17, 20, 19]\n",
    "\n",
    "# Perform Levene's Test\n",
    "stat, p_val = stats.levene(group1, group2, group3)\n",
    "\n",
    "print(f\"Levene's Test statistic: {stat}, P-value: {p_val}\")"
   ]
  },
  {
   "cell_type": "markdown",
   "id": "c3bca1c9-d224-416e-883b-8313f34aaa14",
   "metadata": {},
   "source": [
    "### 2. Fisher’s Exact Test (fisher_exact)\n",
    "#### Purpose: To determine if there are nonrandom associations between two categorical variables in a 2×2 contingency table. It is particularly useful for small sample sizes where Chi-Square tests might be inaccurate."
   ]
  },
  {
   "cell_type": "code",
   "execution_count": 24,
   "id": "de893e32-d664-4cc0-9655-fcf629512786",
   "metadata": {},
   "outputs": [
    {
     "name": "stdout",
     "output_type": "stream",
     "text": [
      "Odds Ratio: 20.0, P-value: 0.034965034965034975\n"
     ]
    }
   ],
   "source": [
    "from scipy import stats\n",
    "\n",
    "# Sample data: 2x2 contingency table\n",
    "contingency_table = [[8, 2],\n",
    "                     [1, 5]]\n",
    "\n",
    "# Perform Fisher's Exact Test\n",
    "odds_ratio, p_val = stats.fisher_exact(contingency_table)\n",
    "\n",
    "print(f\"Odds Ratio: {odds_ratio}, P-value: {p_val}\")"
   ]
  },
  {
   "cell_type": "code",
   "execution_count": null,
   "id": "32a45b0d-e404-4b6d-ba5e-95ac225575a7",
   "metadata": {},
   "outputs": [],
   "source": []
  }
 ],
 "metadata": {
  "kernelspec": {
   "display_name": "Python 3 (ipykernel)",
   "language": "python",
   "name": "python3"
  },
  "language_info": {
   "codemirror_mode": {
    "name": "ipython",
    "version": 3
   },
   "file_extension": ".py",
   "mimetype": "text/x-python",
   "name": "python",
   "nbconvert_exporter": "python",
   "pygments_lexer": "ipython3",
   "version": "3.11.4"
  }
 },
 "nbformat": 4,
 "nbformat_minor": 5
}
