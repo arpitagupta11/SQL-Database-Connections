{
 "cells": [
  {
   "cell_type": "code",
   "execution_count": 1,
   "id": "78798b3b-ee6b-4072-b3eb-0a7229d45e28",
   "metadata": {},
   "outputs": [],
   "source": [
    "import psycopg2"
   ]
  },
  {
   "cell_type": "code",
   "execution_count": 2,
   "id": "089eda78-d6fe-4a13-9571-0ae97e623239",
   "metadata": {},
   "outputs": [
    {
     "name": "stdout",
     "output_type": "stream",
     "text": [
      "(1, 'Alice', 'Engineer', Decimal('70000'))\n"
     ]
    }
   ],
   "source": [
    "conn = psycopg2.connect(dbname=\"mydatabase\", user=\"postgres\", password=\"arpita11\", host=\"localhost\")\n",
    "cur = conn.cursor()\n",
    "cur.execute(\"SELECT * FROM employee;\")\n",
    "rows = cur.fetchall()\n",
    "for row in rows:\n",
    "    print(row)\n",
    "cur.close()\n",
    "conn.close()"
   ]
  },
  {
   "cell_type": "code",
   "execution_count": 4,
   "id": "fc4f6943-91c6-4732-84ec-220f1088b5c9",
   "metadata": {},
   "outputs": [],
   "source": [
    "import mysql\n",
    "from mysql import connector"
   ]
  },
  {
   "cell_type": "code",
   "execution_count": 5,
   "id": "9ce96b0f-25ad-4fd1-ba87-c551ec373392",
   "metadata": {},
   "outputs": [
    {
     "name": "stdout",
     "output_type": "stream",
     "text": [
      "(1, 'alice', 'engineer', Decimal('70000.00'))\n"
     ]
    }
   ],
   "source": [
    "conn = mysql.connector.connect(host=\"localhost\", user=\"root\", password=\"arpita11\", database=\"mydatabase\")\n",
    "cur = conn.cursor()\n",
    "cur.execute(\"SELECT * FROM employee;\")\n",
    "rows = cur.fetchall()\n",
    "for row in rows:\n",
    "    print(row)\n",
    "cur.close()\n",
    "conn.close()"
   ]
  },
  {
   "cell_type": "code",
   "execution_count": null,
   "id": "c8dab8c3-b5fd-4b63-a76d-9af75f34b0b9",
   "metadata": {},
   "outputs": [],
   "source": []
  }
 ],
 "metadata": {
  "kernelspec": {
   "display_name": "Python 3 (ipykernel)",
   "language": "python",
   "name": "python3"
  },
  "language_info": {
   "codemirror_mode": {
    "name": "ipython",
    "version": 3
   },
   "file_extension": ".py",
   "mimetype": "text/x-python",
   "name": "python",
   "nbconvert_exporter": "python",
   "pygments_lexer": "ipython3",
   "version": "3.11.4"
  }
 },
 "nbformat": 4,
 "nbformat_minor": 5
}
