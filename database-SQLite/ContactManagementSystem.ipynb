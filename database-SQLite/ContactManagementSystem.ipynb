{
 "cells": [
  {
   "cell_type": "markdown",
   "id": "d9f37a51-38db-4af6-81eb-9e2f58b51945",
   "metadata": {},
   "source": [
    "# Contact Management System\n",
    "\n",
    "This document provides an overview of the Contact Management System implemented using Python and SQLite. It includes details about the database schema and the key functions used to manage contacts.\n",
    "\n",
    "## Setup and Requirements\n",
    "\n",
    "- **Database**: SQLite\n",
    "- **Technology**: Python\n",
    "\n",
    "## Database Schema\n",
    "\n",
    "The `contacts` table in the SQLite database has the following columns:\n",
    "\n",
    "| Column        | Type    | Description                                        |\n",
    "|---------------|---------|----------------------------------------------------|\n",
    "| `id`          | INTEGER | Primary key, auto-incremented                     |\n",
    "| `first_name`  | TEXT    | First name of the contact                         |\n",
    "| `last_name`   | TEXT    | Last name of the contact                          |\n",
    "| `phone_number`| TEXT    | Phone number of the contact (unique)              |\n",
    "| `email`       | TEXT    | Email address of the contact (optional, unique)   |\n",
    "| `address`     | TEXT    | Address of the contact (optional)                 |\n",
    "\n",
    "\n",
    "## Functions\n",
    "\n",
    "- **`create_database()`**: Creates the SQLite database and `contacts` table if they do not already exist.\n",
    "\n",
    "- **`add_contact(first_name, last_name, phone_number, email=None, address=None)`**: Adds a new contact to the database.\n",
    "\n",
    "- **`view_contacts()`**: Displays all contacts currently stored in the database.\n",
    "\n",
    "- **`update_contact(contact_id, first_name=None, last_name=None, phone_number=None, email=None, address=None)`**: Updates the details of an existing contact identified by `contact_id`.\n",
    "\n",
    "- **`delete_contact(contact_id)`**: Deletes a contact from the database using its `contact_id`.\n",
    "\n"
   ]
  },
  {
   "cell_type": "code",
   "execution_count": 1,
   "id": "796c151a-098c-4a41-86b5-9e316f46153a",
   "metadata": {},
   "outputs": [],
   "source": [
    "import sqlite3"
   ]
  },
  {
   "cell_type": "code",
   "execution_count": 2,
   "id": "31beb5cb-c246-476d-9476-2586a2a230d9",
   "metadata": {},
   "outputs": [],
   "source": [
    "conn = sqlite3.connect('contacts.db')\n",
    "cursor = conn.cursor()\n",
    "\n",
    "# Create table for contacts\n",
    "cursor.execute('''\n",
    "   CREATE TABLE IF NOT EXISTS contacts (\n",
    "        id INTEGER PRIMARY KEY AUTOINCREMENT,\n",
    "        first_name TEXT NOT NULL,\n",
    "        last_name TEXT NOT NULL,\n",
    "        phone_number TEXT NOT NULL UNIQUE,\n",
    "        email TEXT UNIQUE,\n",
    "        address TEXT\n",
    "    )\n",
    "''')\n",
    "conn.commit()"
   ]
  },
  {
   "cell_type": "code",
   "execution_count": 3,
   "id": "1cb9f2bd-f4ef-4927-adfb-8d460e07888f",
   "metadata": {},
   "outputs": [],
   "source": [
    "def add_contact(first_name, last_name, phone_number, email=None, address=None):\n",
    "    cursor.execute('''\n",
    "        INSERT INTO contacts (first_name, last_name, phone_number, email, address)\n",
    "    VALUES (?, ?, ?, ?, ?)\n",
    "    ''', (first_name, last_name, phone_number, email, address))\n",
    "    conn.commit()"
   ]
  },
  {
   "cell_type": "code",
   "execution_count": 4,
   "id": "9ec4f802-c64e-410b-99be-944a839b442c",
   "metadata": {},
   "outputs": [],
   "source": [
    "def view_contacts():\n",
    "    cursor.execute('SELECT * FROM contacts')\n",
    "    rows = cursor.fetchall()\n",
    "    if rows:\n",
    "        for row in rows:\n",
    "            print(f\"ID: {row[0]}, First Name: {row[1]}, Last Name: {row[2]}, Phone: {row[3]}, Email: {row[4]} , Address: {row[5]}\")\n",
    "    else:\n",
    "        print(\"No contacts found.\")"
   ]
  },
  {
   "cell_type": "code",
   "execution_count": 5,
   "id": "b6e4d975-b56a-4ca5-a0dc-6f6f590deb04",
   "metadata": {},
   "outputs": [],
   "source": [
    "def update_contact(contact_id, first_name=None, last_name=None, phone_number=None, email=None, address=None):\n",
    "    query = 'UPDATE contacts SET'\n",
    "    params = []\n",
    "    \n",
    "    if first_name:\n",
    "        query += ' first_name = ?,'\n",
    "        params.append(first_name)\n",
    "    if last_name:\n",
    "        query += ' last_name = ?,'\n",
    "        params.append(last_name)\n",
    "    if phone_number:\n",
    "        query += ' phone_number = ?,'\n",
    "        params.append(phone_number)\n",
    "    if email:\n",
    "        query += ' email = ?,'\n",
    "        params.append(email)\n",
    "    if address:\n",
    "        query += ' address = ?,'\n",
    "        params.append(address)\n",
    "    \n",
    "    query = query.rstrip(',') + ' WHERE id = ?'\n",
    "    params.append(contact_id)\n",
    "    \n",
    "    cursor.execute(query, params)\n",
    "    conn.commit()\n",
    "    print(\"Contact updated successfully.\")\n"
   ]
  },
  {
   "cell_type": "code",
   "execution_count": 6,
   "id": "f97c3cd5-6640-4ec1-9e70-fee1bc30784f",
   "metadata": {},
   "outputs": [],
   "source": [
    "def delete_contact(contact_id):\n",
    "    cursor.execute('DELETE FROM contacts WHERE id = ?', (contact_id,))\n",
    "    conn.commit()\n",
    "    print(\"Contacts deleted successfully\")"
   ]
  },
  {
   "cell_type": "code",
   "execution_count": 7,
   "id": "70cf9cc7-385b-42c2-93de-8fe163a7b1bb",
   "metadata": {},
   "outputs": [
    {
     "name": "stdout",
     "output_type": "stream",
     "text": [
      "All Contacts:\n",
      "ID: 1, First Name: John, Last Name: Doe, Phone: 555-1234, Email: john.doe@example.com , Address: 123 Elm Street\n",
      "ID: 2, First Name: Jane, Last Name: Smith, Phone: 555-5678, Email: jane.smith@example.com , Address: 456 Oak Avenue\n"
     ]
    }
   ],
   "source": [
    "# Add new contacts\n",
    "add_contact('John', 'Doe', '555-1234', 'john.doe@example.com', '123 Elm Street')\n",
    "add_contact('Jane', 'Smith', '555-5678', 'jane.smith@example.com', '456 Oak Avenue')\n",
    "\n",
    "# View all contacts\n",
    "print(\"All Contacts:\")\n",
    "view_contacts()"
   ]
  },
  {
   "cell_type": "code",
   "execution_count": 8,
   "id": "1a619572-f9b8-459c-9dc2-5f52682c7eeb",
   "metadata": {},
   "outputs": [
    {
     "name": "stdout",
     "output_type": "stream",
     "text": [
      "Contact updated successfully.\n",
      "Contacts deleted successfully\n",
      "Updated Contacts:\n",
      "ID: 1, First Name: John, Last Name: Doe, Phone: 555-1234, Email: john.doe@newdomain.com , Address: 123 Elm Street\n"
     ]
    }
   ],
   "source": [
    "# Update a contact\n",
    "update_contact(1, email='john.doe@newdomain.com')  # Update email for contact with ID 1\n",
    "\n",
    "# Delete a contact\n",
    "delete_contact(2)  # Delete contact with ID 2\n",
    "\n",
    "# View all contacts again to see the changes\n",
    "print(\"Updated Contacts:\")\n",
    "view_contacts()"
   ]
  },
  {
   "cell_type": "code",
   "execution_count": 9,
   "id": "67c8518f-d481-4c26-a47b-ca2552f834d3",
   "metadata": {},
   "outputs": [],
   "source": [
    "conn.close()"
   ]
  },
  {
   "cell_type": "code",
   "execution_count": null,
   "id": "3529db38-7c4f-4d26-9294-cd6f910c57f2",
   "metadata": {},
   "outputs": [],
   "source": []
  }
 ],
 "metadata": {
  "kernelspec": {
   "display_name": "Python 3 (ipykernel)",
   "language": "python",
   "name": "python3"
  },
  "language_info": {
   "codemirror_mode": {
    "name": "ipython",
    "version": 3
   },
   "file_extension": ".py",
   "mimetype": "text/x-python",
   "name": "python",
   "nbconvert_exporter": "python",
   "pygments_lexer": "ipython3",
   "version": "3.11.4"
  }
 },
 "nbformat": 4,
 "nbformat_minor": 5
}
