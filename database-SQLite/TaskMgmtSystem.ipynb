{
 "cells": [
  {
   "cell_type": "markdown",
   "id": "6f0ca9fe-8e1a-4faa-a262-96991b91e795",
   "metadata": {},
   "source": [
    "# Task Management Application\n",
    "\n",
    "This document provides an overview of the Task Management Application implemented using Python and SQLite. It includes details on setup, database schema, CRUD operations, and example usage.\n",
    "\n",
    "## Libraries Used\n",
    "\n",
    "- **SQLite**: A lightweight, disk-based database that doesn't require a separate server process.\n",
    "- **Python `sqlite3` Library**: Provides an interface for interacting with SQLite databases.\n",
    "\n",
    "## Database Schema\n",
    "\n",
    "The `tasks` table in the SQLite database has the following columns:\n",
    "\n",
    "| Column         | Type    | Description                                             |\n",
    "|----------------|---------|---------------------------------------------------------|\n",
    "| `id`           | INTEGER | Primary key, auto-incremented                          |\n",
    "| `description`  | TEXT    | Description of the task                                |\n",
    "| `status`       | TEXT    | Status of the task (Pending, In Progress, Completed)   |\n",
    "| `created_at`   | TEXT    | Timestamp when the task was created (default: current time) |\n",
    "\n",
    "## Functions\n",
    "\n",
    "- **`add_task(description, status='Pending')`**: Adds a new task to the database.\n",
    "\n",
    "- **`view_tasks()`**: Displays all tasks currently in the database.\n",
    "\n",
    "- **`update_task(task_id, description=None, status=None)`**: Updates the information of an existing task identified by `task_id`.\n",
    "\n",
    "- **`delete_task(task_id)`**: Deletes a task from the database by its `task_id`.\n",
    "\n",
    "\n",
    "## Python Code"
   ]
  },
  {
   "cell_type": "code",
   "execution_count": 1,
   "id": "ae73c55d-ca73-4791-8976-9373bb421f31",
   "metadata": {},
   "outputs": [],
   "source": [
    "import sqlite3"
   ]
  },
  {
   "cell_type": "code",
   "execution_count": 2,
   "id": "0b5849ab-0025-48ea-ade0-585a5d07ddb9",
   "metadata": {},
   "outputs": [],
   "source": [
    "conn = sqlite3.connect('tasks.db')\n",
    "cursor = conn.cursor()\n",
    "\n",
    "cursor.execute('''\n",
    "    CREATE TABLE IF NOT EXISTS tasks (\n",
    "        id INTEGER PRIMARY KEY AUTOINCREMENT,\n",
    "        description TEXT NOT NULL,\n",
    "        status TEXT CHECK(status IN ('Pending', 'In Progress', 'Completed')) NOT NULL,\n",
    "        created_at TEXT DEFAULT CURRENT_TIMESTAMP\n",
    "    )\n",
    "''')\n",
    "conn.commit()"
   ]
  },
  {
   "cell_type": "code",
   "execution_count": 3,
   "id": "5c30d1d1-ed62-485d-b002-a6756b64ad03",
   "metadata": {},
   "outputs": [],
   "source": [
    "def add_task(description, status='Pending'):\n",
    "    cursor.execute('''\n",
    "       INSERT INTO tasks (description, status)\n",
    "    VALUES (?, ?)\n",
    "    ''', (description, status))\n",
    "    conn.commit()\n",
    "    print(\"Task added successfully.\")"
   ]
  },
  {
   "cell_type": "code",
   "execution_count": 4,
   "id": "4fb3f5da-707e-42fb-ab05-7c322a1ac566",
   "metadata": {},
   "outputs": [],
   "source": [
    "def view_tasks():\n",
    "    cursor.execute('SELECT * FROM tasks')\n",
    "    rows = cursor.fetchall()\n",
    "    for row in rows:\n",
    "        print(row)"
   ]
  },
  {
   "cell_type": "code",
   "execution_count": 5,
   "id": "ed1e69f0-cc55-4c5d-b36f-60555a187df4",
   "metadata": {},
   "outputs": [],
   "source": [
    "def update_task(task_id, description=None, status=None):\n",
    "    conn = sqlite3.connect('tasks.db')\n",
    "    cursor = conn.cursor()\n",
    "    \n",
    "    query = 'UPDATE tasks SET'\n",
    "    params = []\n",
    "    \n",
    "    if description:\n",
    "        query += ' description = ?,'\n",
    "        params.append(description)\n",
    "    \n",
    "    if status:\n",
    "        query += ' status = ?,'\n",
    "        params.append(status)\n",
    "    \n",
    "    query = query.rstrip(',') + ' WHERE id = ?'\n",
    "    params.append(task_id)\n",
    "    \n",
    "    cursor.execute(query, params)\n",
    "    conn.commit()\n",
    "    \n",
    "    print(\"Task updated successfully.\")\n"
   ]
  },
  {
   "cell_type": "code",
   "execution_count": 6,
   "id": "e6aa175e-fedf-40a6-bb5a-9d9a00ab23fe",
   "metadata": {},
   "outputs": [],
   "source": [
    "def delete_task(task_id):\n",
    "    cursor.execute('DELETE FROM tasks WHERE id = ?', (task_id,))\n",
    "    conn.commit()\n",
    "    print(\"Task deleted successfully.\")\n"
   ]
  },
  {
   "cell_type": "code",
   "execution_count": 7,
   "id": "b03744c7-e581-4616-abe6-a2735a869444",
   "metadata": {},
   "outputs": [
    {
     "name": "stdout",
     "output_type": "stream",
     "text": [
      "Task added successfully.\n",
      "Task added successfully.\n",
      "Task added successfully.\n",
      "Task added successfully.\n",
      "Task added successfully.\n"
     ]
    }
   ],
   "source": [
    "# Add new tasks with various statuses\n",
    "add_task('Finish the report', 'In Progress')\n",
    "add_task('Buy groceries')\n",
    "add_task('Schedule a meeting', 'Pending')\n",
    "add_task('Prepare presentation', 'In Progress')\n",
    "add_task('Clean the house', 'Completed')\n"
   ]
  },
  {
   "cell_type": "code",
   "execution_count": 8,
   "id": "d2d30f82-8ec0-4c64-92a8-37903aca9189",
   "metadata": {},
   "outputs": [
    {
     "name": "stdout",
     "output_type": "stream",
     "text": [
      "All Tasks:\n",
      "(1, 'Finish the report', 'In Progress', '2024-09-10 14:23:53')\n",
      "(2, 'Buy groceries', 'Pending', '2024-09-10 14:23:53')\n",
      "(3, 'Schedule a meeting', 'Pending', '2024-09-10 14:23:53')\n",
      "(4, 'Prepare presentation', 'In Progress', '2024-09-10 14:23:53')\n",
      "(5, 'Clean the house', 'Completed', '2024-09-10 14:23:53')\n"
     ]
    }
   ],
   "source": [
    "# View all tasks\n",
    "print(\"All Tasks:\")\n",
    "view_tasks()"
   ]
  },
  {
   "cell_type": "code",
   "execution_count": 9,
   "id": "5f3c5346-dfb9-46df-b115-1cf8e37d79dd",
   "metadata": {},
   "outputs": [
    {
     "name": "stdout",
     "output_type": "stream",
     "text": [
      "Task updated successfully.\n",
      "Task updated successfully.\n"
     ]
    }
   ],
   "source": [
    "# Update tasks\n",
    "update_task(1, status='Completed')  # Mark task 1 as completed\n",
    "update_task(3, description='Schedule team meeting')  # Update description of task 3\n"
   ]
  },
  {
   "cell_type": "code",
   "execution_count": 10,
   "id": "c73dfdf2-edd9-4f44-899f-37ddaa4d0788",
   "metadata": {},
   "outputs": [
    {
     "name": "stdout",
     "output_type": "stream",
     "text": [
      "Task deleted successfully.\n",
      "Updated Tasks:\n",
      "(1, 'Finish the report', 'Completed', '2024-09-10 14:23:53')\n",
      "(2, 'Buy groceries', 'Pending', '2024-09-10 14:23:53')\n",
      "(3, 'Schedule team meeting', 'Pending', '2024-09-10 14:23:53')\n",
      "(5, 'Clean the house', 'Completed', '2024-09-10 14:23:53')\n"
     ]
    }
   ],
   "source": [
    "# Delete a task\n",
    "delete_task(4)  # Delete task 4\n",
    "\n",
    "# View all tasks again to see the changes\n",
    "print(\"Updated Tasks:\")\n",
    "view_tasks()"
   ]
  },
  {
   "cell_type": "code",
   "execution_count": null,
   "id": "e47e7aeb-14ff-4077-9b5c-a5ca6d30e479",
   "metadata": {},
   "outputs": [],
   "source": []
  }
 ],
 "metadata": {
  "kernelspec": {
   "display_name": "Python 3 (ipykernel)",
   "language": "python",
   "name": "python3"
  },
  "language_info": {
   "codemirror_mode": {
    "name": "ipython",
    "version": 3
   },
   "file_extension": ".py",
   "mimetype": "text/x-python",
   "name": "python",
   "nbconvert_exporter": "python",
   "pygments_lexer": "ipython3",
   "version": "3.11.4"
  }
 },
 "nbformat": 4,
 "nbformat_minor": 5
}
