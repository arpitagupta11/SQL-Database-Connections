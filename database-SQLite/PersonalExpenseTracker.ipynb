{
 "cells": [
  {
   "cell_type": "markdown",
   "id": "9a2148cd-032d-4634-b86a-706a715c03c1",
   "metadata": {},
   "source": [
    "# Personal Expense Tracker\n",
    "\n",
    "## Objective\n",
    "Build an application to track personal expenses, allowing users to add, view, update, and delete expense records.\n",
    "\n",
    "## Setup and Requirements\n",
    "\n",
    "- **Library:** SQLite3\n",
    "- **Technology:** Python\n",
    "\n",
    "## Steps to Build the Application\n",
    "\n",
    "\n",
    "\n"
   ]
  },
  {
   "cell_type": "code",
   "execution_count": 1,
   "id": "b48137e5-38c5-4a8b-b058-84ea5d2dcc78",
   "metadata": {},
   "outputs": [],
   "source": [
    "import sqlite3\n",
    "from tabulate import tabulate"
   ]
  },
  {
   "cell_type": "code",
   "execution_count": 2,
   "id": "257bc189-7ac7-4993-a785-2298a7675458",
   "metadata": {},
   "outputs": [],
   "source": [
    "conn = sqlite3.connect('expense_tracker.db')"
   ]
  },
  {
   "cell_type": "code",
   "execution_count": 3,
   "id": "bb3d3ee0-d6ca-49da-8555-605c671a2c05",
   "metadata": {},
   "outputs": [],
   "source": [
    "cursor = conn.cursor()"
   ]
  },
  {
   "cell_type": "code",
   "execution_count": 4,
   "id": "845da875-a408-47ef-89e3-f7de70afa035",
   "metadata": {},
   "outputs": [],
   "source": [
    "cursor.execute('''\n",
    "CREATE TABLE IF NOT EXISTS expenses(\n",
    "    id INTEGER PRIMARY KEY AUTOINCREMENT,\n",
    "    date TEXT NOT NULL,\n",
    "    description TEXT,\n",
    "    category TEXT,\n",
    "    amount REAL NOT NULL\n",
    ")\n",
    "\n",
    "''')\n",
    "conn.commit()"
   ]
  },
  {
   "cell_type": "markdown",
   "id": "1d4bcb78-48fd-4670-a229-5b98334c606b",
   "metadata": {},
   "source": [
    "### Function to add an expense"
   ]
  },
  {
   "cell_type": "code",
   "execution_count": 5,
   "id": "a15917e9-b960-45fe-97d4-76be70636170",
   "metadata": {},
   "outputs": [],
   "source": [
    "def add_expense(date , description, category, amount):\n",
    "    try:\n",
    "        query = \"INSERT INTO expenses(date, description, category, amount) VALUES (?, ?, ?, ?)\"\n",
    "        values = (date, description, category, amount)\n",
    "        cursor.execute(query, values)\n",
    "        conn.commit()\n",
    "        print(f\"Expense added successfully;{values}\")\n",
    "    except sqlite3.Error as e:\n",
    "        print(f\"An Error Occured while adding expense:{e}\")\n",
    "    "
   ]
  },
  {
   "cell_type": "markdown",
   "id": "eb87c579-b384-4991-b572-5f29eb62a067",
   "metadata": {},
   "source": [
    "### Function to view all expenses"
   ]
  },
  {
   "cell_type": "code",
   "execution_count": 6,
   "id": "19e84909-1257-439e-a9df-a3acceba58fa",
   "metadata": {},
   "outputs": [],
   "source": [
    "def view_expenses():\n",
    "    try:\n",
    "        cursor.execute(\"Select * from expenses\")\n",
    "        results = cursor.fetchall()\n",
    "        if not results:\n",
    "            print(\"no expenses found.\")\n",
    "        else:\n",
    "            headers = [\"ID\" , \"DATE\" , \"Description\" , \"Category\" , \"Amount\"]\n",
    "            print(tabulate(results , headers = headers , tablefmt=\"grid\"))\n",
    "    except sqlite3.Error as e:\n",
    "        print(f\"An Error occured while viewing expenses: {e}\")\n",
    "    "
   ]
  },
  {
   "cell_type": "code",
   "execution_count": 7,
   "id": "e8504431-a91c-4e1f-87f7-0997dd758462",
   "metadata": {},
   "outputs": [
    {
     "name": "stdout",
     "output_type": "stream",
     "text": [
      "Expense added successfully;('2024-09-06', 'Monthly rent', 'Housing', 1200.0)\n",
      "Expense added successfully;('2024-09-07', 'Gym membership', 'Health', 45.0)\n",
      "Expense added successfully;('2024-09-08', 'Book purchase', 'Education', 22.75)\n",
      "Expense added successfully;('2024-09-09', 'Lunch at café', 'Food', 18.5)\n",
      "Expense added successfully;('2024-09-10', 'Internet bill', 'Utilities', 60.0)\n",
      "Expense added successfully;('2024-09-11', 'Concert tickets', 'Entertainment', 85.0)\n",
      "Expense added successfully;('2024-09-12', 'Bus fare', 'Transportation', 12.0)\n",
      "Expense added successfully;('2024-09-13', 'Phone bill', 'Utilities', 40.0)\n",
      "Expense added successfully;('2024-09-14', 'Dinner at restaurant', 'Food', 55.0)\n",
      "Expense added successfully;('2024-09-15', 'Coffee shop visit', 'Food', 7.25)\n",
      "+------+------------+----------------------+----------------+----------+\n",
      "|   ID | DATE       | Description          | Category       |   Amount |\n",
      "+======+============+======================+================+==========+\n",
      "|   61 | 2024-09-01 | Weekly groceries     | Food           |   120.5  |\n",
      "+------+------------+----------------------+----------------+----------+\n",
      "|   62 | 2024-09-02 | Bus pass             | Transportation |    35    |\n",
      "+------+------------+----------------------+----------------+----------+\n",
      "|   63 | 2024-09-03 | Electricity bill     | Utilities      |    75.25 |\n",
      "+------+------------+----------------------+----------------+----------+\n",
      "|   64 | 2024-09-04 | Dinner with friends  | Food           |    45    |\n",
      "+------+------------+----------------------+----------------+----------+\n",
      "|   65 | 2024-09-05 | Movie tickets        | Entertainment  |    30    |\n",
      "+------+------------+----------------------+----------------+----------+\n",
      "|   66 | 2024-09-06 | Monthly rent         | Housing        |  1200    |\n",
      "+------+------------+----------------------+----------------+----------+\n",
      "|   67 | 2024-09-07 | Gym membership       | Health         |    45    |\n",
      "+------+------------+----------------------+----------------+----------+\n",
      "|   68 | 2024-09-08 | Book purchase        | Education      |    22.75 |\n",
      "+------+------------+----------------------+----------------+----------+\n",
      "|   69 | 2024-09-09 | Lunch at café        | Food           |    18.5  |\n",
      "+------+------------+----------------------+----------------+----------+\n",
      "|   70 | 2024-09-10 | Internet bill        | Utilities      |    60    |\n",
      "+------+------------+----------------------+----------------+----------+\n",
      "|   71 | 2024-09-11 | Concert tickets      | Entertainment  |    85    |\n",
      "+------+------------+----------------------+----------------+----------+\n",
      "|   72 | 2024-09-12 | Bus fare             | Transportation |    12    |\n",
      "+------+------------+----------------------+----------------+----------+\n",
      "|   73 | 2024-09-13 | Phone bill           | Utilities      |    40    |\n",
      "+------+------------+----------------------+----------------+----------+\n",
      "|   74 | 2024-09-14 | Dinner at restaurant | Food           |    55    |\n",
      "+------+------------+----------------------+----------------+----------+\n",
      "|   75 | 2024-09-15 | Coffee shop visit    | Food           |     7.25 |\n",
      "+------+------------+----------------------+----------------+----------+\n"
     ]
    }
   ],
   "source": [
    "# Add Sample Data with New and Different Entries\n",
    "add_expense('2024-09-06', 'Monthly rent', 'Housing', 1200.00)\n",
    "add_expense('2024-09-07', 'Gym membership', 'Health', 45.00)\n",
    "add_expense('2024-09-08', 'Book purchase', 'Education', 22.75)\n",
    "add_expense('2024-09-09', 'Lunch at café', 'Food', 18.50)\n",
    "add_expense('2024-09-10', 'Internet bill', 'Utilities', 60.00)\n",
    "add_expense('2024-09-11', 'Concert tickets', 'Entertainment', 85.00)\n",
    "add_expense('2024-09-12', 'Bus fare', 'Transportation', 12.00)\n",
    "add_expense('2024-09-13', 'Phone bill', 'Utilities', 40.00)\n",
    "add_expense('2024-09-14', 'Dinner at restaurant', 'Food', 55.00)\n",
    "add_expense('2024-09-15', 'Coffee shop visit', 'Food', 7.25)\n",
    "\n",
    "# View expenses after adding the sample data\n",
    "view_expenses()\n"
   ]
  },
  {
   "cell_type": "markdown",
   "id": "15515ca9-21fb-44e2-b83f-1af7668c0702",
   "metadata": {},
   "source": [
    "### Function to update an expense\n"
   ]
  },
  {
   "cell_type": "code",
   "execution_count": 8,
   "id": "3993199d-48ab-4edc-a851-2bee589644d5",
   "metadata": {},
   "outputs": [],
   "source": [
    "def update_expenses(expense_id, new_description):\n",
    "    query = \"UPDATE expenses SET description = ? WHERE id =?\"\n",
    "    values = (new_description, expense_id)\n",
    "    cursor.execute(query, values)\n",
    "    conn.commit()\n",
    "    print(\"Expenses updated successfully.\")"
   ]
  },
  {
   "cell_type": "markdown",
   "id": "89d35088-a209-4d65-968f-cb8dadfe1769",
   "metadata": {},
   "source": [
    "### Function to delete an expense"
   ]
  },
  {
   "cell_type": "code",
   "execution_count": 9,
   "id": "80874bd8-0879-4ea4-9096-e77a248b0a7d",
   "metadata": {},
   "outputs": [],
   "source": [
    "def delete_expense(expense_id):\n",
    "    query = \"DELETE FROM expenses where id = ?\"\n",
    "    cursor.execute(query , (expense_id,))\n",
    "    conn.commit()\n",
    "    print(\"Expense deleted successfully\")\n",
    "    "
   ]
  },
  {
   "cell_type": "code",
   "execution_count": 10,
   "id": "e16cdac9-3df9-4a65-88a1-03fa8a59bf0d",
   "metadata": {},
   "outputs": [],
   "source": [
    "cursor.close()\n",
    "conn.close()"
   ]
  },
  {
   "cell_type": "code",
   "execution_count": null,
   "id": "ee4d5cc3-2494-4690-b958-7d33a20156c8",
   "metadata": {},
   "outputs": [],
   "source": []
  }
 ],
 "metadata": {
  "kernelspec": {
   "display_name": "Python 3 (ipykernel)",
   "language": "python",
   "name": "python3"
  },
  "language_info": {
   "codemirror_mode": {
    "name": "ipython",
    "version": 3
   },
   "file_extension": ".py",
   "mimetype": "text/x-python",
   "name": "python",
   "nbconvert_exporter": "python",
   "pygments_lexer": "ipython3",
   "version": "3.11.4"
  }
 },
 "nbformat": 4,
 "nbformat_minor": 5
}
