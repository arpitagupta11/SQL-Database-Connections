{
 "cells": [
  {
   "cell_type": "markdown",
   "id": "2b25b2b0-8256-4cd0-8a42-3b4c490b4bf7",
   "metadata": {},
   "source": [
    "# Library Management System\n",
    "\n",
    "This document provides an overview of the Library Management System implemented using Python and SQLite. It includes details on libraries used, table structure, functions, and example usage.\n",
    "\n",
    "## Libraries Used\n",
    "\n",
    "- **SQLite**: A lightweight, disk-based database that doesn't require a separate server process.\n",
    "- **Python `sqlite3` Library**: Provides a SQL interface compliant with the DB-API 2.0 specification.\n",
    "\n",
    "## Table Structure\n",
    "\n",
    "The `books` table in the SQLite database is designed to store information about books. The table has the following columns:\n",
    "\n",
    "| Column           | Type    | Description                                  |\n",
    "|------------------|---------|----------------------------------------------|\n",
    "| `id`             | INTEGER | Primary key, auto-incremented                |\n",
    "| `title`          | TEXT    | Title of the book                            |\n",
    "| `author`         | TEXT    | Author of the book                           |\n",
    "| `published_date` | TEXT    | Publication date of the book                 |\n",
    "| `isbn`           | TEXT    | International Standard Book Number (unique)  |\n",
    "\n",
    "## Functions\n",
    "\n",
    "- **`add_book(title, author, published_date, isbn)`**: Adds a new book to the database.\n",
    "  \n",
    "- **`view_books()`**: Displays all books currently in the database.\n",
    "  \n",
    "- **`update_book(book_id, title=None, author=None, published_date=None, isbn=None)`**: Updates the information of an existing book identified by `book_id`.\n",
    "  \n",
    "- **`delete_book(book_id)`**: Deletes a book from the database by its `book_id`.\n",
    "### python code ->"
   ]
  },
  {
   "cell_type": "code",
   "execution_count": 1,
   "id": "54225ffb-ce71-4e73-a5ee-4a95347afedd",
   "metadata": {},
   "outputs": [],
   "source": [
    "import sqlite3"
   ]
  },
  {
   "cell_type": "code",
   "execution_count": 2,
   "id": "a37479d1-b227-4e82-abb2-5b91761ceecd",
   "metadata": {},
   "outputs": [],
   "source": [
    "conn = sqlite3.connect('library.db')\n",
    "cursor = conn.cursor()\n",
    "\n",
    "cursor.execute('''\n",
    "    CREATE TABLE IF NOT EXISTS books (\n",
    "        id INTEGER PRIMARY KEY AUTOINCREMENT,\n",
    "        title TEXT NOT NULL,\n",
    "        author TEXT NOT NULL,\n",
    "        published_date TEXT,\n",
    "        isbn TEXT UNIQUE\n",
    "    )\n",
    "''')\n",
    "conn.commit()"
   ]
  },
  {
   "cell_type": "code",
   "execution_count": 3,
   "id": "6770463b-1e44-49e5-a824-b9c6afdb9380",
   "metadata": {},
   "outputs": [],
   "source": [
    "def add_book(title, author, published_date, isbn):\n",
    "    cursor.execute('''\n",
    "        INSERT INTO books (title, author, published_date, isbn)\n",
    "        VALUES (?, ?, ?, ?)\n",
    "    ''', (title, author, published_date, isbn))\n",
    "    conn.commit()"
   ]
  },
  {
   "cell_type": "code",
   "execution_count": 4,
   "id": "0388d6cc-2fe8-43f7-a662-a9bdd02404c2",
   "metadata": {},
   "outputs": [],
   "source": [
    "def view_books():\n",
    "    cursor.execute('SELECT * FROM books')\n",
    "    rows = cursor.fetchall()\n",
    "    for row in rows:\n",
    "        print(row)"
   ]
  },
  {
   "cell_type": "code",
   "execution_count": 5,
   "id": "2b78a66e-2cce-47b6-abd5-264af195fdb5",
   "metadata": {},
   "outputs": [],
   "source": [
    "def update_book(book_id, title=None, author=None, published_date=None, isbn=None):\n",
    "    query = 'UPDATE books SET'\n",
    "    params = []\n",
    "    if title:\n",
    "        query += ' title = ?,'\n",
    "        params.append(title)\n",
    "    if author:\n",
    "        query += ' author = ?,'\n",
    "        params.append(author)\n",
    "    if published_date:\n",
    "        query += ' published_date = ?,'\n",
    "        params.append(published_date)\n",
    "    if isbn:\n",
    "        query += ' isbn = ?,'\n",
    "        params.append(isbn)\n",
    "    query = query.rstrip(',') + ' WHERE id = ?'\n",
    "    params.append(book_id)\n",
    "    cursor.execute(query, params)\n",
    "    conn.commit()\n",
    "\n",
    "def delete_book(book_id):\n",
    "    cursor.execute('DELETE FROM books WHERE id = ?', (book_id,))\n",
    "    conn.commit()"
   ]
  },
  {
   "cell_type": "code",
   "execution_count": 6,
   "id": "c7e2d66f-8095-46f6-9fdb-3db1d783c770",
   "metadata": {},
   "outputs": [
    {
     "name": "stdout",
     "output_type": "stream",
     "text": [
      "Books in the library:\n",
      "(1, '1984', 'George Orwell', '1949-06-08', '1234567890')\n",
      "(2, 'To Kill a Mockingbird', 'Harper Lee', '1960-07-11', '0987654321')\n",
      "(3, 'The Great Gatsby', 'F. Scott Fitzgerald', '1925-04-10', '1122334455')\n"
     ]
    }
   ],
   "source": [
    "# Sample Entries\n",
    "add_book('1984', 'George Orwell', '1949-06-08', '1234567890')\n",
    "add_book('To Kill a Mockingbird', 'Harper Lee', '1960-07-11', '0987654321')\n",
    "add_book('The Great Gatsby', 'F. Scott Fitzgerald', '1925-04-10', '1122334455')\n",
    "\n",
    "# View all books\n",
    "print(\"Books in the library:\")\n",
    "view_books()"
   ]
  },
  {
   "cell_type": "code",
   "execution_count": 7,
   "id": "9da20dd8-3104-4cb6-a371-251db38e5936",
   "metadata": {},
   "outputs": [],
   "source": [
    "# Update a book\n",
    "update_book(1, title='Nineteen Eighty-Four', author='George Orwell')"
   ]
  },
  {
   "cell_type": "code",
   "execution_count": 8,
   "id": "be001e33-cde7-44e8-9855-bc16d54aef3c",
   "metadata": {},
   "outputs": [],
   "source": [
    "# Delete a book\n",
    "delete_book(3)\n"
   ]
  },
  {
   "cell_type": "code",
   "execution_count": 9,
   "id": "c21c5768-235d-4e24-aa90-26ebf727ea55",
   "metadata": {},
   "outputs": [
    {
     "name": "stdout",
     "output_type": "stream",
     "text": [
      "Updated list of books in the library:\n",
      "(1, 'Nineteen Eighty-Four', 'George Orwell', '1949-06-08', '1234567890')\n",
      "(2, 'To Kill a Mockingbird', 'Harper Lee', '1960-07-11', '0987654321')\n"
     ]
    }
   ],
   "source": [
    "# View all books again to see the changes\n",
    "print(\"Updated list of books in the library:\")\n",
    "view_books()\n"
   ]
  },
  {
   "cell_type": "code",
   "execution_count": 10,
   "id": "959a35e6-e710-4ed8-9e70-7bad5ba9d510",
   "metadata": {},
   "outputs": [],
   "source": [
    "# Close the connection\n",
    "conn.close()"
   ]
  },
  {
   "cell_type": "code",
   "execution_count": null,
   "id": "e544860c-13ee-4c60-a05b-45705ccd8c62",
   "metadata": {},
   "outputs": [],
   "source": []
  }
 ],
 "metadata": {
  "kernelspec": {
   "display_name": "Python 3 (ipykernel)",
   "language": "python",
   "name": "python3"
  },
  "language_info": {
   "codemirror_mode": {
    "name": "ipython",
    "version": 3
   },
   "file_extension": ".py",
   "mimetype": "text/x-python",
   "name": "python",
   "nbconvert_exporter": "python",
   "pygments_lexer": "ipython3",
   "version": "3.11.4"
  }
 },
 "nbformat": 4,
 "nbformat_minor": 5
}
