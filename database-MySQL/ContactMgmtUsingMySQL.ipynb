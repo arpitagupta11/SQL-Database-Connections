{
 "cells": [
  {
   "cell_type": "markdown",
   "id": "876a8f49-c510-46bf-8567-b6b108742f5d",
   "metadata": {},
   "source": [
    "# Contact Management System\n",
    "\n",
    "## Project Overview\n",
    "\n",
    "The Contact Management System allows users to manage contact information, including adding, viewing, updating, and deleting contacts. The system uses Python for application logic and MySQL for data storage.\n",
    "\n",
    "## Libraries Used\n",
    "\n",
    "### 1. **mysql.connector**\n",
    "   - **Purpose**: Connects Python applications to MySQL databases and enables SQL operations.\n",
    "   - **Key Functions**:\n",
    "     - `connect(**kwargs)`: Establishes a connection to the MySQL database. Parameters include:\n",
    "       - `host` (str): The hostname of the MySQL server.\n",
    "       - `user` (str): The MySQL username.\n",
    "       - `password` (str): The MySQL password.\n",
    "       - `database` (str): The database name to connect to.\n",
    "     - `cursor()`: Creates a cursor object used to interact with the database and execute SQL queries.\n",
    "     - `execute(query, params)`: Executes a SQL query with the specified parameters.\n",
    "     - `commit()`: Commits the current transaction, saving any changes made to the database.\n",
    "     - `close()`: Closes the cursor and the database connection.\n",
    "\n",
    "## Key Functions\n",
    "\n",
    "### 1. **`add_contact(first_name, last_name=None, phone_number=None, email=None, address=None)`**\n",
    "   - **Purpose**: Adds a new contact record to the database.\n",
    "   - **Parameters**:\n",
    "     - `first_name` (str): The first name of the contact.\n",
    "     - `last_name` (str, optional): The last name of the contact.\n",
    "     - `phone_number` (str, optional): The phone number of the contact.\n",
    "     - `email` (str, optional): The email address of the contact.\n",
    "     - `address` (str, optional): The address of the contact.\n",
    "   - **SQL Operation**: Executes an `INSERT INTO` statement to add a new record to the `contacts` table.\n",
    "\n",
    "### 2. **`view_contacts()`**\n",
    "   - **Purpose**: Retrieves and displays all contact records from the database.\n",
    "   - **SQL Operation**: Executes a `SELECT * FROM` statement to fetch all records from the `contacts` table.\n",
    "   - **Output**: Prints each contact record to the console.\n",
    "\n",
    "### 3. **`update_contact(contact_id, first_name=None, last_name=None, phone_number=None, email=None, address=None)`**\n",
    "   - **Purpose**: Updates the information of an existing contact record based on the provided parameters.\n",
    "   - **Parameters**:\n",
    "     - `contact_id` (int): The ID of the contact to be updated.\n",
    "     - `first_name` (str, optional): The new first name of the contact.\n",
    "     - `last_name` (str, optional): The new last name of the contact.\n",
    "     - `phone_number` (str, optional): The new phone number of the contact.\n",
    "     - `email` (str, optional): The new email address of the contact.\n",
    "     - `address` (str, optional): The new address of the contact.\n",
    "   - **SQL Operation**: Constructs and executes an `UPDATE` statement to modify the specified fields of the contact record.\n",
    "\n",
    "### 4. **`remove_contact(contact_id)`**\n",
    "   - **Purpose**: Deletes a contact record from the database based on the provided contact ID.\n",
    "   - **Parameters**:\n",
    "     - `contact_id` (int): The ID of the contact to be deleted.\n",
    "   - **SQL Operation**: Executes a `DELETE FROM` statement to remove the specified record from the `contacts` table.\n",
    "\n",
    "## Attributes and Database Setup\n",
    "\n",
    "### Database: `contact_management`\n",
    "- **Tables**:\n",
    "  - **`contacts`**: Stores information about contacts with the following columns:\n",
    "    - `id` (INT, Primary Key, AUTO_INCREMENT): A unique identifier for each contact.\n",
    "    - `first_name` (VARCHAR): The first name of the contact.\n",
    "    - `last_name` (VARCHAR): The last name of the contact.\n",
    "    - `phone_number` (VARCHAR): The phone number of the contact.\n",
    "    - `email` (VARCHAR): The email address of the contact.\n",
    "    - `address` (TEXT): The address of the contact.\n"
   ]
  },
  {
   "cell_type": "code",
   "execution_count": 1,
   "id": "8fff79aa-b059-4cb5-a27f-0948ddd6b0a8",
   "metadata": {},
   "outputs": [],
   "source": [
    "import mysql.connector"
   ]
  },
  {
   "cell_type": "code",
   "execution_count": 11,
   "id": "fff88f97-4163-4d86-a1db-3fb007da8732",
   "metadata": {},
   "outputs": [],
   "source": [
    "conn= mysql.connector.connect(\n",
    "    host = \"localhost\",\n",
    "    user = \"root\",\n",
    "    password = \"new_password\",\n",
    "    database = \"contact_management\"\n",
    "\n",
    ")\n",
    "cursor = conn.cursor()"
   ]
  },
  {
   "cell_type": "markdown",
   "id": "a74fc992-51bc-4489-af28-df91e08a3dcf",
   "metadata": {},
   "source": [
    "##### Add a New Contact:"
   ]
  },
  {
   "cell_type": "code",
   "execution_count": 12,
   "id": "beedfaf9-1a2e-49bf-8845-d9b9e88cbd8c",
   "metadata": {},
   "outputs": [],
   "source": [
    "def add_contact(first_name, last_name=None, phone_number=None, email=None, address=None):\n",
    "    query = '''\n",
    "    INSERT INTO contacts (first_name, last_name, phone_number, email, address)\n",
    "    VALUES (%s, %s, %s, %s, %s)\n",
    "    '''\n",
    "    cursor.execute(query, (first_name, last_name, phone_number, email, address))\n",
    "    conn.commit()\n",
    "    print(\"Contact added successfully.\")\n"
   ]
  },
  {
   "cell_type": "markdown",
   "id": "f7d67e32-5370-488d-bbeb-aae28df1adf6",
   "metadata": {},
   "source": [
    "##### View All Contacts:"
   ]
  },
  {
   "cell_type": "code",
   "execution_count": 13,
   "id": "24869839-b4af-4b3e-b7f7-3dee38cf5bbb",
   "metadata": {},
   "outputs": [],
   "source": [
    "def view_contacts():\n",
    "    cursor.execute('SELECT * FROM contacts')\n",
    "    records = cursor.fetchall()\n",
    "    print(\"Contact Records:\")\n",
    "    for record in records:\n",
    "        print(record)\n"
   ]
  },
  {
   "cell_type": "markdown",
   "id": "b77e040f-d7a0-4a85-a8cb-cfc08d6c86b4",
   "metadata": {},
   "source": [
    "##### Update Contact Information:"
   ]
  },
  {
   "cell_type": "code",
   "execution_count": 14,
   "id": "1c7253bc-7c8d-41c8-a377-a0c4c121454c",
   "metadata": {},
   "outputs": [],
   "source": [
    "def update_contact(contact_id, first_name=None, last_name=None, phone_number=None, email=None, address=None):\n",
    "    query = 'UPDATE contacts SET'\n",
    "    params = []\n",
    "    if first_name:\n",
    "        query += ' first_name = %s,'\n",
    "        params.append(first_name)\n",
    "    if last_name:\n",
    "        query += ' last_name = %s,'\n",
    "        params.append(last_name)\n",
    "    if phone_number:\n",
    "        query += ' phone_number = %s,'\n",
    "        params.append(phone_number)\n",
    "    if email:\n",
    "        query += ' email = %s,'\n",
    "        params.append(email)\n",
    "    if address:\n",
    "        query += ' address = %s,'\n",
    "        params.append(address)\n",
    "    \n",
    "    query = query.rstrip(',') + ' WHERE id = %s'\n",
    "    params.append(contact_id)\n",
    "\n",
    "    cursor.execute(query, params)\n",
    "    conn.commit()\n",
    "    print(\"Contact updated successfully.\")\n"
   ]
  },
  {
   "cell_type": "markdown",
   "id": "3ad14089-6013-4050-94eb-49ac03e713d0",
   "metadata": {},
   "source": [
    "##### Remove a Contact:"
   ]
  },
  {
   "cell_type": "code",
   "execution_count": 15,
   "id": "0b199eed-0861-455c-919e-d081bcca27a1",
   "metadata": {},
   "outputs": [],
   "source": [
    "def remove_contact(contact_id):\n",
    "    cursor.execute('DELETE FROM contacts WHERE id = %s', (contact_id,))\n",
    "    conn.commit()\n",
    "    print(\"Contact removed successfully.\")\n"
   ]
  },
  {
   "cell_type": "code",
   "execution_count": 16,
   "id": "f5bfbf29-d4b6-47f2-8c97-6b457fc9175f",
   "metadata": {},
   "outputs": [
    {
     "name": "stdout",
     "output_type": "stream",
     "text": [
      "Contact added successfully.\n"
     ]
    }
   ],
   "source": [
    "# Add a contact\n",
    "add_contact(\"John\", \"Doe\", \"123-456-7890\", \"john.doe@example.com\", \"123 Elm Street\")\n"
   ]
  },
  {
   "cell_type": "code",
   "execution_count": 17,
   "id": "37c3d5fb-7c1e-4cac-bbe0-90cb861f85d2",
   "metadata": {},
   "outputs": [
    {
     "name": "stdout",
     "output_type": "stream",
     "text": [
      "Contact Records:\n",
      "(1, 'John', 'Doe', '123-456-7890', 'john.doe@example.com', '123 Elm Street')\n"
     ]
    }
   ],
   "source": [
    "view_contacts()\n"
   ]
  },
  {
   "cell_type": "code",
   "execution_count": 18,
   "id": "6f68fde0-a7ab-46e0-a5ab-1bb3d953dd80",
   "metadata": {},
   "outputs": [
    {
     "name": "stdout",
     "output_type": "stream",
     "text": [
      "Contact updated successfully.\n"
     ]
    }
   ],
   "source": [
    "update_contact(1, phone_number=\"987-654-3210\", email=\"john.doe@newemail.com\")\n"
   ]
  },
  {
   "cell_type": "code",
   "execution_count": 19,
   "id": "e6dcf314-fe95-4420-a787-0d4a91342371",
   "metadata": {},
   "outputs": [
    {
     "name": "stdout",
     "output_type": "stream",
     "text": [
      "Contact Records:\n",
      "(1, 'John', 'Doe', '987-654-3210', 'john.doe@newemail.com', '123 Elm Street')\n"
     ]
    }
   ],
   "source": [
    "view_contacts()"
   ]
  },
  {
   "cell_type": "code",
   "execution_count": null,
   "id": "3c9130e2-2d3b-4764-a335-11e3256162b8",
   "metadata": {},
   "outputs": [],
   "source": []
  }
 ],
 "metadata": {
  "kernelspec": {
   "display_name": "Python 3 (ipykernel)",
   "language": "python",
   "name": "python3"
  },
  "language_info": {
   "codemirror_mode": {
    "name": "ipython",
    "version": 3
   },
   "file_extension": ".py",
   "mimetype": "text/x-python",
   "name": "python",
   "nbconvert_exporter": "python",
   "pygments_lexer": "ipython3",
   "version": "3.11.4"
  }
 },
 "nbformat": 4,
 "nbformat_minor": 5
}
