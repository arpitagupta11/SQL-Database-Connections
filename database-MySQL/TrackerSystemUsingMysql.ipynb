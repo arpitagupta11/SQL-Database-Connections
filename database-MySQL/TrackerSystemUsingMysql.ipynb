{
 "cells": [
  {
   "cell_type": "markdown",
   "id": "ce70289f-f48b-4787-9e8f-79bc82ed50a9",
   "metadata": {},
   "source": [
    "# Personal Expense Tracker\n",
    "\n",
    "## Project Overview\n",
    "\n",
    "The Personal Expense Tracker application helps users manage their expenses by allowing them to add, view, update, and delete expense records. The project is implemented in Python and uses MySQL as the database to store and manage the data.\n",
    "\n",
    "## Libraries Used\n",
    "\n",
    "### 1. **mysql.connector**\n",
    "   - **Purpose**: This library allows Python programs to connect to MySQL databases and perform SQL operations.\n",
    "   - **Key Functions**:\n",
    "     - `connect()`: Establishes a connection to the MySQL database using specified credentials and database name.\n",
    "     - `cursor()`: Creates a cursor object to interact with the database by executing SQL queries.\n",
    "     - `commit()`: Saves the changes made by SQL operations like `INSERT`, `UPDATE`, and `DELETE`.\n",
    "     - `close()`: Closes the database connection.\n",
    "\n",
    "## Key Functions\n",
    "\n",
    "### 1. **`add_expense(expense_tuple)`**\n",
    "   - **Purpose**: Adds a new expense record to the database.\n",
    "   - **Parameters**: \n",
    "     - `expense_tuple`: A tuple containing `(date, category, description, amount)`.\n",
    "   - **SQL Operation**: Executes an `INSERT INTO` statement to add the new expense to the `expenses` table.\n",
    "\n",
    "### 2. **`view_expenses()`**\n",
    "   - **Purpose**: Fetches and displays all expense records from the database.\n",
    "   - **SQL Operation**: Executes a `SELECT * FROM` statement to retrieve all records from the `expenses` table.\n",
    "   - **Output**: Prints each expense record to the console.\n",
    "\n",
    "### 3. **`update_expense(expense_id, date=None, category=None, amount=None, description=None)`**\n",
    "   - **Purpose**: Updates existing expense records based on the provided parameters.\n",
    "   - **Parameters**:\n",
    "     - `expense_id`: The ID of the expense record to be updated.\n",
    "     - `date`: (Optional) New date for the expense.\n",
    "     - `category`: (Optional) New category for the expense.\n",
    "     - `amount`: (Optional) New amount for the expense.\n",
    "     - `description`: (Optional) New description for the expense.\n",
    "   - **SQL Operation**: Executes an `UPDATE` statement to modify the specified fields of an existing expense record.\n",
    "   - **Dynamic Query**: Constructs the query dynamically based on which parameters are provided, allowing for partial updates.\n",
    "\n",
    "### 4. **`delete_expense(expense_id_tuple)`**\n",
    "   - **Purpose**: Deletes an expense record from the database based on the provided expense ID.\n",
    "   - **Parameters**:\n",
    "     - `expense_id_tuple`: A tuple containing the `expense_id` of the record to delete.\n",
    "   - **SQL Operation**: Executes a `DELETE FROM` statement to remove the specified record from the `expenses` table.\n",
    "\n",
    "## Attributes and Database Setup\n",
    "\n",
    "### Database: `personal_expense_tracker`\n",
    "- **Tables**:\n",
    "  - **`expenses`**: Stores individual expense records with the following columns:\n",
    "    - `id` (INT, Primary Key): A unique identifier for each expense.\n",
    "    - `date` (DATE): The date of the expense.\n",
    "    - `category` (VARCHAR): The category of the expense (e.g., Food, Transportation).\n",
    "    - `description` (VARCHAR): A description of the expense.\n",
    "    - `amount` (FLOAT): The amount spent."
   ]
  },
  {
   "cell_type": "code",
   "execution_count": 1,
   "id": "950bcee6-55a4-4cf3-b74a-7a490aa33d6d",
   "metadata": {},
   "outputs": [],
   "source": [
    "import mysql.connector"
   ]
  },
  {
   "cell_type": "code",
   "execution_count": 3,
   "id": "9262a05c-73b1-4b14-a1d9-ed1227d4fee0",
   "metadata": {},
   "outputs": [],
   "source": [
    "conn = mysql.connector.connect(\n",
    "    host = \"localhost\",\n",
    "    user = \"root\",\n",
    "    password = \"new_password\",\n",
    "    database = \"personal_expense_tracker\"\n",
    ")\n",
    "cursor = conn.cursor()\n"
   ]
  },
  {
   "cell_type": "markdown",
   "id": "29808ade-61dc-4923-b58c-a32155f11f42",
   "metadata": {},
   "source": [
    "#### Implement CRUD Operations:\n",
    "##### Add a New Expense:\n",
    "\n"
   ]
  },
  {
   "cell_type": "code",
   "execution_count": 13,
   "id": "63bfcb0c-0ac9-44b9-9aea-32a919d80d22",
   "metadata": {},
   "outputs": [],
   "source": [
    "def add_expense(expense_tuple):\n",
    "    # Unpack the tuple inside the function\n",
    "    date, category, description, amount = expense_tuple\n",
    "    cursor.execute('''\n",
    "        INSERT INTO expenses (date, category, description, amount)\n",
    "        VALUES (%s, %s, %s, %s)\n",
    "    ''', (date, category, description, amount))\n",
    "    conn.commit()\n",
    "    print(\"Expense added successfully.\")"
   ]
  },
  {
   "cell_type": "markdown",
   "id": "21acf935-5cc7-494a-9940-9e7b267722be",
   "metadata": {},
   "source": [
    "##### View All Expenses:"
   ]
  },
  {
   "cell_type": "code",
   "execution_count": 15,
   "id": "5435bc09-7a52-41a6-b3ef-868d360b6918",
   "metadata": {},
   "outputs": [],
   "source": [
    "def view_expense():\n",
    "    cursor.execute('SELECT * FROM expenses')\n",
    "    records = cursor.fetchall()\n",
    "    print(\"Expense Records:\")\n",
    "    for record in records:\n",
    "        print(record)\n",
    "        "
   ]
  },
  {
   "cell_type": "markdown",
   "id": "c84c147f-f043-4e84-bca1-1bb57c2f0a98",
   "metadata": {},
   "source": [
    "##### Update an Expense Record:"
   ]
  },
  {
   "cell_type": "code",
   "execution_count": 20,
   "id": "0238ed26-829b-4160-8f71-4c53ddccda37",
   "metadata": {},
   "outputs": [],
   "source": [
    "def update_expense(expense_id, date=None, category=None, amount=None, description=None):\n",
    "    query = 'UPDATE expenses SET'\n",
    "    params = []\n",
    "    if date:\n",
    "        query += ' date = %s,'\n",
    "        params.append(date)\n",
    "    if category:\n",
    "        query += ' category = %s,'\n",
    "        params.append(category)\n",
    "    if amount:\n",
    "        query += ' amount = %s,'\n",
    "        params.append(amount)\n",
    "    if description:\n",
    "        query += ' description = %s,'\n",
    "        params.append(description)\n",
    "    query = query.rstrip(',') + ' WHERE id = %s'\n",
    "    params.append(expense_id)\n",
    "    cursor.execute(query, params)\n",
    "    conn.commit()\n",
    "    print(\"Expense updated successfully.\")\n"
   ]
  },
  {
   "cell_type": "markdown",
   "id": "1b369782-36e8-4c9d-8e60-ba10d5977f61",
   "metadata": {},
   "source": [
    "##### Delete an Expense Record:"
   ]
  },
  {
   "cell_type": "code",
   "execution_count": 18,
   "id": "4a15c65b-84ec-4abc-a8a5-7b27964e80aa",
   "metadata": {},
   "outputs": [],
   "source": [
    "def delete_expense(expense_id_tuple):\n",
    "    (expense_id,)= expense_id_tuple\n",
    "    cursor.execute('DELETE FROM expenses WHERE id = %s', (expense_id,))\n",
    "    conn.commit()\n",
    "    print(\"Expense deleted successfully.\")"
   ]
  },
  {
   "cell_type": "code",
   "execution_count": 14,
   "id": "dfdee2bc-09ee-4d57-a0d8-30b568614d63",
   "metadata": {},
   "outputs": [
    {
     "name": "stdout",
     "output_type": "stream",
     "text": [
      "Expense added successfully.\n",
      "Expense added successfully.\n"
     ]
    }
   ],
   "source": [
    "# Example entries\n",
    "add_expense((\"2024-09-01\", \"Food\", \"Lunch at a restaurant\", 15.50))\n",
    "add_expense((\"2024-09-02\", \"Transportation\", \"Uber ride to work\", 8.75))\n"
   ]
  },
  {
   "cell_type": "code",
   "execution_count": 17,
   "id": "f8736f73-69b2-446a-b270-c300333141d1",
   "metadata": {},
   "outputs": [
    {
     "name": "stdout",
     "output_type": "stream",
     "text": [
      "Expense Records:\n",
      "(1, datetime.date(2024, 9, 1), 'Food', 'Lunch at a restaurant', Decimal('15.50'))\n",
      "(2, datetime.date(2024, 9, 2), 'Transportation', 'Uber ride to work', Decimal('8.75'))\n"
     ]
    }
   ],
   "source": [
    "# View all expenses to validate the entries\n",
    "view_expense()\n"
   ]
  },
  {
   "cell_type": "code",
   "execution_count": 21,
   "id": "69b56ec4-0925-4902-89da-081a15e4b211",
   "metadata": {},
   "outputs": [
    {
     "name": "stdout",
     "output_type": "stream",
     "text": [
      "Expense updated successfully.\n"
     ]
    }
   ],
   "source": [
    "update_expense(1, amount=30.00)\n"
   ]
  },
  {
   "cell_type": "code",
   "execution_count": 22,
   "id": "7787e336-aa6c-4a6b-a850-c6af82c5422d",
   "metadata": {},
   "outputs": [
    {
     "name": "stdout",
     "output_type": "stream",
     "text": [
      "Expense Records:\n",
      "(1, datetime.date(2024, 9, 1), 'Food', 'Lunch at a restaurant', Decimal('30.00'))\n",
      "(2, datetime.date(2024, 9, 2), 'Transportation', 'Uber ride to work', Decimal('8.75'))\n"
     ]
    }
   ],
   "source": [
    "# View all expenses to validate the entries\n",
    "view_expense()\n"
   ]
  },
  {
   "cell_type": "code",
   "execution_count": 24,
   "id": "eedd6103-7443-48c7-aa2f-6ea683a23814",
   "metadata": {},
   "outputs": [
    {
     "name": "stdout",
     "output_type": "stream",
     "text": [
      "Expense deleted successfully.\n"
     ]
    }
   ],
   "source": [
    "delete_expense((2,))"
   ]
  },
  {
   "cell_type": "code",
   "execution_count": null,
   "id": "bdfa35ca-818f-471c-bcdd-6eddec94d20c",
   "metadata": {},
   "outputs": [],
   "source": []
  }
 ],
 "metadata": {
  "kernelspec": {
   "display_name": "Python 3 (ipykernel)",
   "language": "python",
   "name": "python3"
  },
  "language_info": {
   "codemirror_mode": {
    "name": "ipython",
    "version": 3
   },
   "file_extension": ".py",
   "mimetype": "text/x-python",
   "name": "python",
   "nbconvert_exporter": "python",
   "pygments_lexer": "ipython3",
   "version": "3.11.4"
  }
 },
 "nbformat": 4,
 "nbformat_minor": 5
}
