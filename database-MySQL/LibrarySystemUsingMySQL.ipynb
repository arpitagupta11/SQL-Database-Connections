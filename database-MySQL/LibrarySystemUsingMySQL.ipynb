{
 "cells": [
  {
   "cell_type": "markdown",
   "id": "6d7b1c7d-2506-49b2-a4ee-1d33439f56f6",
   "metadata": {},
   "source": [
    "# Library Management System\n",
    "\n",
    "## Project Overview\n",
    "\n",
    "The Library Management System allows users to manage a library's collection of books. This includes functionalities for adding new books, updating book information, viewing all books, and removing books from the database. The project uses Python for the application logic and MySQL for data storage and management.\n",
    "\n",
    "## Libraries Used\n",
    "\n",
    "### 1. **mysql.connector**\n",
    "   - **Purpose**: Connects Python applications to MySQL databases and facilitates SQL operations.\n",
    "   - **Key Functions**:\n",
    "     - `connect()`: Establishes a connection to the MySQL database using the provided host, user, password, and database name.\n",
    "     - `cursor()`: Creates a cursor object that allows interaction with the database by executing SQL queries.\n",
    "     - `execute(query, params)`: Executes a SQL query with the specified parameters.\n",
    "     - `commit()`: Commits the current transaction, saving any changes made to the database.\n",
    "     - `close()`: Closes the cursor and database connection.\n",
    "\n",
    "## Key Functions\n",
    "\n",
    "### 1. **`add_book(title, author, genre, published_year)`**\n",
    "   - **Purpose**: Adds a new book record to the database.\n",
    "   - **Parameters**:\n",
    "     - `title` (str): The title of the book.\n",
    "     - `author` (str): The author of the book.\n",
    "     - `genre` (str): The genre of the book (e.g., Fiction, Non-Fiction).\n",
    "     - `published_year` (int): The year the book was published.\n",
    "   - **SQL Operation**: Executes an `INSERT INTO` statement to add a new record to the `books` table.\n",
    "\n",
    "### 2. **`view_books()`**\n",
    "   - **Purpose**: Retrieves and displays all book records from the database.\n",
    "   - **SQL Operation**: Executes a `SELECT * FROM` statement to fetch all records from the `books` table.\n",
    "   - **Output**: Prints each book record to the console.\n",
    "\n",
    "### 3. **`update_book(book_id, title=None, author=None, genre=None, published_year=None, status=None)`**\n",
    "   - **Purpose**: Updates the information of an existing book record based on the provided parameters.\n",
    "   - **Parameters**:\n",
    "     - `book_id` (int): The ID of the book to be updated.\n",
    "     - `title` (str, optional): The new title of the book.\n",
    "     - `author` (str, optional): The new author of the book.\n",
    "     - `genre` (str, optional): The new genre of the book.\n",
    "     - `published_year` (int, optional): The new published year of the book.\n",
    "     - `status` (str, optional): The new status of the book (e.g., 'Available', 'Checked Out').\n",
    "   - **SQL Operation**: Constructs and executes an `UPDATE` statement to modify the specified fields of the book record.\n",
    "\n",
    "### 4. **`remove_book(book_id)`**\n",
    "   - **Purpose**: Deletes a book record from the database based on the provided book ID.\n",
    "   - **Parameters**:\n",
    "     - `book_id` (int): The ID of the book to be deleted.\n",
    "   - **SQL Operation**: Executes a `DELETE FROM` statement to remove the specified record from the `books` table.\n",
    "\n",
    "## Attributes and Database Setup\n",
    "\n",
    "### Database: `library_management_system`\n",
    "- **Tables**:\n",
    "  - **`books`**: Stores information about books with the following columns:\n",
    "    - `id` (INT, Primary Key): A unique identifier for each book.\n",
    "    - `title` (VARCHAR): The title of the book.\n",
    "    - `author` (VARCHAR): The author of the book.\n",
    "    - `genre` (VARCHAR): The genre of the book.\n",
    "    - `published_year` (INT): The year the book was published.\n",
    "    - `status` (VARCHAR): The current status of the book (e.g., 'Available', 'Checked Out').\n"
   ]
  },
  {
   "cell_type": "code",
   "execution_count": 1,
   "id": "3e29e064-a2ab-428d-bca1-cb6f97ba4456",
   "metadata": {},
   "outputs": [],
   "source": [
    "import mysql.connector"
   ]
  },
  {
   "cell_type": "code",
   "execution_count": 3,
   "id": "4ed9d71e-5014-4db7-b100-3445dc106d49",
   "metadata": {},
   "outputs": [],
   "source": [
    "conn = mysql.connector.connect(\n",
    "    host = \"localhost\",\n",
    "    user = \"root\",\n",
    "    password = \"new_password\",\n",
    "    database = \"library_management_system\"\n",
    "\n",
    ")\n",
    "cursor = conn.cursor()"
   ]
  },
  {
   "cell_type": "markdown",
   "id": "43b910d7-8f3a-47fa-8b6f-8091dce1adb1",
   "metadata": {},
   "source": [
    "#### Implement CRUD Operations:\n",
    "##### Add a New Book:\n"
   ]
  },
  {
   "cell_type": "code",
   "execution_count": 4,
   "id": "8a9f0b9a-fa6b-47df-963c-bd71fe5ac2f1",
   "metadata": {},
   "outputs": [],
   "source": [
    "def add_book(title, author, genre, published_year ):\n",
    "    query = '''\n",
    "    INSERT INTO books(title, author , genre, published_year)\n",
    "    VALUES (%s , %s, %s , %s)\n",
    "    '''\n",
    "    cursor.execute(query, (title , author , genre , published_year))\n",
    "    conn.commit()\n",
    "    print(\"Book added successfully.\")\n",
    "    "
   ]
  },
  {
   "cell_type": "markdown",
   "id": "52653044-21e4-409d-99d0-b2a534ff0d42",
   "metadata": {},
   "source": [
    "##### View All Books:"
   ]
  },
  {
   "cell_type": "code",
   "execution_count": 5,
   "id": "a8071549-a6ed-4df1-a0d4-4e7fc977a295",
   "metadata": {},
   "outputs": [],
   "source": [
    "def view_books():\n",
    "    cursor.execute('SELECT * FROM books')\n",
    "    records = cursor.fetchall()\n",
    "    print(\"Book Records:\")\n",
    "    for record in records:\n",
    "        print(record)\n",
    "        "
   ]
  },
  {
   "cell_type": "markdown",
   "id": "9ac387d8-7c9d-4c5c-a7e4-6838e8a4471f",
   "metadata": {},
   "source": [
    "##### Update Book Information:"
   ]
  },
  {
   "cell_type": "code",
   "execution_count": 6,
   "id": "5ac5ea4f-6784-4df4-8deb-f4331cba5e87",
   "metadata": {},
   "outputs": [],
   "source": [
    "def update_book(book_id, title=None, author=None, genre=None, published_year=None, status=None):\n",
    "    query = 'UPDATE books SET'\n",
    "    params = []\n",
    "    if title:\n",
    "        query += ' title = %s,'\n",
    "        params.append(title)\n",
    "    if author:\n",
    "        query += ' author = %s,'\n",
    "        params.append(author)\n",
    "    if genre:\n",
    "        query += ' genre = %s,'\n",
    "        params.append(genre)\n",
    "    if published_year:\n",
    "        query += ' published_year = %s,'\n",
    "        params.append(published_year)\n",
    "    if status:\n",
    "        query += ' status = %s,'\n",
    "        params.append(status)\n",
    "    \n",
    "    query = query.rstrip(',') + ' WHERE id = %s'\n",
    "    params.append(book_id)\n",
    "\n",
    "    cursor.execute(query, params)\n",
    "    conn.commit()\n",
    "    print(\"Book updated successfully.\")\n"
   ]
  },
  {
   "cell_type": "markdown",
   "id": "ae7028f7-c717-47f6-8216-44aaa23dca73",
   "metadata": {},
   "source": [
    "##### Delete a book:"
   ]
  },
  {
   "cell_type": "code",
   "execution_count": 7,
   "id": "7484ddd3-66ba-4e99-83c9-adb525616f52",
   "metadata": {},
   "outputs": [],
   "source": [
    "def remove_book(book_id):\n",
    "    cursor.execute('DELETE FROM books WHERE id = %s' , (book_id,))\n",
    "    conn.commit()\n",
    "    print(\"Book removed successfully.\")"
   ]
  },
  {
   "cell_type": "code",
   "execution_count": 9,
   "id": "8f818599-8c0d-457c-9087-d99a23e5dc28",
   "metadata": {},
   "outputs": [
    {
     "name": "stdout",
     "output_type": "stream",
     "text": [
      "Book added successfully.\n",
      "Book added successfully.\n",
      "Book added successfully.\n",
      "Book added successfully.\n",
      "Book added successfully.\n",
      "Book added successfully.\n",
      "Book added successfully.\n",
      "Book added successfully.\n",
      "Book added successfully.\n",
      "Book added successfully.\n"
     ]
    }
   ],
   "source": [
    "add_book(\"The Great Gatsby\", \"F. Scott Fitzgerald\", \"Classic\", 1925)\n",
    "add_book(\"To Kill a Mockingbird\", \"Harper Lee\", \"Fiction\", 1960)\n",
    "add_book(\"Dune\", \"Frank Herbert\", \"Science Fiction\", 1965)\n",
    "add_book(\"The Hound of the Baskervilles\", \"Arthur Conan Doyle\", \"Mystery\", 1902)\n",
    "add_book(\"Sapiens: A Brief History of Humankind\", \"Yuval Noah Harari\", \"Non-Fiction\", 2011)\n",
    "add_book(\"Pride and Prejudice\", \"Jane Austen\", \"Classic\", 1813)\n",
    "add_book(\"Harry Potter and the Sorcerer's Stone\", \"J.K. Rowling\", \"Fantasy\", 1997)\n",
    "add_book(\"The Diary of a Young Girl\", \"Anne Frank\", \"Biography\", 1947)\n",
    "add_book(\"The Book Thief\", \"Markus Zusak\", \"Historical Fiction\", 2005)\n",
    "add_book(\"Gone with the Wind\", \"Margaret Mitchell\", \"Romance\", 1936)\n"
   ]
  },
  {
   "cell_type": "code",
   "execution_count": 11,
   "id": "6b419679-61a0-40e8-b29d-14ef9387b37c",
   "metadata": {},
   "outputs": [
    {
     "name": "stdout",
     "output_type": "stream",
     "text": [
      "Book updated successfully.\n",
      "Book updated successfully.\n"
     ]
    }
   ],
   "source": [
    "update_book(1, status=\"Checked Out\")\n",
    "update_book(2, author=\"Frank Herbert (Updated)\")\n"
   ]
  },
  {
   "cell_type": "code",
   "execution_count": 12,
   "id": "91ace289-a842-4c7c-8001-e270fa5bb863",
   "metadata": {},
   "outputs": [
    {
     "name": "stdout",
     "output_type": "stream",
     "text": [
      "Book removed successfully.\n"
     ]
    }
   ],
   "source": [
    "remove_book(5)\n"
   ]
  },
  {
   "cell_type": "code",
   "execution_count": 13,
   "id": "74ec113b-92b2-415d-9f28-41c1156986d5",
   "metadata": {},
   "outputs": [
    {
     "name": "stdout",
     "output_type": "stream",
     "text": [
      "Book Records:\n",
      "(1, 'The Great Gatsby', 'F. Scott Fitzgerald', 'Classic', 1925, 'Checked Out')\n",
      "(2, 'The Great Gatsby', 'Frank Herbert (Updated)', 'Classic', 1925, 'Available')\n",
      "(3, 'To Kill a Mockingbird', 'Harper Lee', 'Fiction', 1960, 'Available')\n",
      "(4, 'Dune', 'Frank Herbert', 'Science Fiction', 1965, 'Available')\n",
      "(6, 'Sapiens: A Brief History of Humankind', 'Yuval Noah Harari', 'Non-Fiction', 2011, 'Available')\n",
      "(7, 'Pride and Prejudice', 'Jane Austen', 'Classic', 1813, 'Available')\n",
      "(8, \"Harry Potter and the Sorcerer's Stone\", 'J.K. Rowling', 'Fantasy', 1997, 'Available')\n",
      "(9, 'The Diary of a Young Girl', 'Anne Frank', 'Biography', 1947, 'Available')\n",
      "(10, 'The Book Thief', 'Markus Zusak', 'Historical Fiction', 2005, 'Available')\n",
      "(11, 'Gone with the Wind', 'Margaret Mitchell', 'Romance', 1936, 'Available')\n"
     ]
    }
   ],
   "source": [
    "view_books()\n"
   ]
  },
  {
   "cell_type": "code",
   "execution_count": null,
   "id": "adde9bf9-f717-44d8-a9bc-ce6a9b9aa1d5",
   "metadata": {},
   "outputs": [],
   "source": []
  }
 ],
 "metadata": {
  "kernelspec": {
   "display_name": "Python 3 (ipykernel)",
   "language": "python",
   "name": "python3"
  },
  "language_info": {
   "codemirror_mode": {
    "name": "ipython",
    "version": 3
   },
   "file_extension": ".py",
   "mimetype": "text/x-python",
   "name": "python",
   "nbconvert_exporter": "python",
   "pygments_lexer": "ipython3",
   "version": "3.11.4"
  }
 },
 "nbformat": 4,
 "nbformat_minor": 5
}
