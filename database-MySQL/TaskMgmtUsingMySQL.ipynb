{
 "cells": [
  {
   "cell_type": "markdown",
   "id": "2f56af69-b879-47a7-a9ae-f7aea06a77f7",
   "metadata": {},
   "source": [
    "# Task Management Application\n",
    "\n",
    "## Project Overview\n",
    "\n",
    "The Task Management Application allows users to manage tasks, including adding, updating, viewing, and deleting tasks. The project uses Python for application logic and MySQL for data storage.\n",
    "\n",
    "## Libraries Used\n",
    "\n",
    "### 1. **mysql.connector**\n",
    "   - **Purpose**: Connects Python applications to MySQL databases and enables SQL operations.\n",
    "   - **Key Functions**:\n",
    "     - `connect()`: Establishes a connection to the MySQL database using the specified host, user, password, and database name.\n",
    "     - `cursor()`: Creates a cursor object to interact with the database and execute SQL queries.\n",
    "     - `execute(query, params)`: Executes a SQL query with the provided parameters.\n",
    "     - `commit()`: Commits the current transaction, saving any changes made to the database.\n",
    "     - `close()`: Closes the cursor and database connection.\n",
    "\n",
    "## Key Functions\n",
    "\n",
    "### 1. **`add_task(title, description=None, due_date=None, status='Pending')`**\n",
    "   - **Purpose**: Adds a new task record to the database.\n",
    "   - **Parameters**:\n",
    "     - `title` (str): The title of the task.\n",
    "     - `description` (str, optional): A detailed description of the task.\n",
    "     - `due_date` (str, optional): The due date for the task in 'YYYY-MM-DD' format.\n",
    "     - `status` (str, optional): The current status of the task (e.g., 'Pending', 'In Progress', 'Completed').\n",
    "   - **SQL Operation**: Executes an `INSERT INTO` statement to add a new record to the `tasks` table.\n",
    "\n",
    "### 2. **`view_tasks()`**\n",
    "   - **Purpose**: Retrieves and displays all task records from the database.\n",
    "   - **SQL Operation**: Executes a `SELECT * FROM` statement to fetch all records from the `tasks` table.\n",
    "   - **Output**: Prints each task record to the console.\n",
    "\n",
    "### 3. **`update_task(task_id, title=None, description=None, due_date=None, status=None)`**\n",
    "   - **Purpose**: Updates the information of an existing task record based on the provided parameters.\n",
    "   - **Parameters**:\n",
    "     - `task_id` (int): The ID of the task to be updated.\n",
    "     - `title` (str, optional): The new title of the task.\n",
    "     - `description` (str, optional): The new description of the task.\n",
    "     - `due_date` (str, optional): The new due date of the task in 'YYYY-MM-DD' format.\n",
    "     - `status` (str, optional): The new status of the task (e.g., 'Pending', 'In Progress', 'Completed').\n",
    "   - **SQL Operation**: Constructs and executes an `UPDATE` statement to modify the specified fields of the task record.\n",
    "\n",
    "### 4. **`remove_task(task_id)`**\n",
    "   - **Purpose**: Deletes a task record from the database based on the provided task ID.\n",
    "   - **Parameters**:\n",
    "     - `task_id` (int): The ID of the task to be deleted.\n",
    "   - **SQL Operation**: Executes a `DELETE FROM` statement to remove the specified record from the `tasks` table.\n",
    "\n",
    "## Attributes and Database Setup\n",
    "\n",
    "### Database: `task_management`\n",
    "- **Tables**:\n",
    "  - **`tasks`**: Stores information about tasks with the following columns:\n",
    "    - `id` (INT, Primary Key, AUTO_INCREMENT): A unique identifier for each task.\n",
    "    - `title` (VARCHAR): The title of the task.\n",
    "    - `description` (TEXT): A detailed description of the task.\n",
    "    - `due_date` (DATE): The due date for the task.\n",
    "    - `status` (VARCHAR): The current status of the task (e.g., 'Pending', 'In Progress', 'Completed').\n"
   ]
  },
  {
   "cell_type": "code",
   "execution_count": 1,
   "id": "9285b4bf-54c3-4d11-af06-76cf96405968",
   "metadata": {},
   "outputs": [],
   "source": [
    "import mysql.connector\n"
   ]
  },
  {
   "cell_type": "code",
   "execution_count": 2,
   "id": "5924aaf2-d102-411b-9a06-77ccbac3b82e",
   "metadata": {},
   "outputs": [],
   "source": [
    "conn = mysql.connector.connect(\n",
    "    host = \"localhost\",\n",
    "    user = \"root\" , \n",
    "    password = \"new_password\",\n",
    "    database = \"task_management\"\n",
    ")\n",
    "cursor = conn.cursor()\n"
   ]
  },
  {
   "cell_type": "markdown",
   "id": "e782951b-de14-41f4-ba51-992190c4c9b3",
   "metadata": {},
   "source": [
    "##### Add a New Task:"
   ]
  },
  {
   "cell_type": "code",
   "execution_count": 4,
   "id": "e8f4feb8-001d-4493-bb60-3d33d314f74d",
   "metadata": {},
   "outputs": [],
   "source": [
    "def add_task(title , description=None , due_date=None, status='Pending'):\n",
    "    query = '''\n",
    "    INSERT INTO tasks(title , description , due_date , status)\n",
    "    VALUES (%s , %s , %s , %s)\n",
    "    '''\n",
    "    cursor.execute(query , (title , description , due_date , status))\n",
    "    conn.commit()\n",
    "    print(\"Task added Successfully.\")"
   ]
  },
  {
   "cell_type": "markdown",
   "id": "ea48fe28-0f5f-4e33-9be0-74852a128d1c",
   "metadata": {},
   "source": [
    "##### View All Tasks:\n",
    "\n"
   ]
  },
  {
   "cell_type": "code",
   "execution_count": 5,
   "id": "7e8cb812-e0da-493f-85ff-cc678ec2931f",
   "metadata": {},
   "outputs": [],
   "source": [
    "def view_tasks():\n",
    "    cursor.execute('SELECT * FROM tasks')\n",
    "    records = cursor.fetchall()\n",
    "    print(\"task records:\")\n",
    "    for record in records:\n",
    "        print(record)"
   ]
  },
  {
   "cell_type": "markdown",
   "id": "08312512-b7b6-44ac-bbbc-c6b53b207239",
   "metadata": {},
   "source": [
    "##### Update Task Information:"
   ]
  },
  {
   "cell_type": "code",
   "execution_count": 6,
   "id": "2acfd826-1e06-447a-b2ee-66ef966ad0b6",
   "metadata": {},
   "outputs": [],
   "source": [
    "def update_task(task_id, title=None, description=None, due_date=None, status=None):\n",
    "    query = 'UPDATE tasks SET'\n",
    "    params = []\n",
    "    if title:\n",
    "        query += ' title = %s,'\n",
    "        params.append(title)\n",
    "    if description:\n",
    "        query += ' description = %s,'\n",
    "        params.append(description)\n",
    "    if due_date:\n",
    "        query += ' due_date = %s,'\n",
    "        params.append(due_date)\n",
    "    if status:\n",
    "        query += ' status = %s,'\n",
    "        params.append(status)\n",
    "    \n",
    "    query = query.rstrip(',') + ' WHERE id = %s'\n",
    "    params.append(task_id)\n",
    "\n",
    "    cursor.execute(query, params)\n",
    "    conn.commit()\n",
    "    print(\"Task updated successfully.\")\n"
   ]
  },
  {
   "cell_type": "markdown",
   "id": "51fd2eb7-7962-4358-895c-1adfe0c2b6a7",
   "metadata": {},
   "source": [
    "##### Remove a Task:"
   ]
  },
  {
   "cell_type": "code",
   "execution_count": 7,
   "id": "7d7d276a-6a8a-4ee1-960f-56c0d668855b",
   "metadata": {},
   "outputs": [],
   "source": [
    "def remove_task(task_id):\n",
    "    cursor.execute('DELETE FROM tasks WHERE id = %s', (task_id,))\n",
    "    conn.commit()\n",
    "    print(\"Task removed successfully.\")\n"
   ]
  },
  {
   "cell_type": "code",
   "execution_count": 8,
   "id": "a9543e85-734e-429b-a19c-14a7680a335d",
   "metadata": {},
   "outputs": [
    {
     "name": "stdout",
     "output_type": "stream",
     "text": [
      "Task added Successfully.\n",
      "Task added Successfully.\n",
      "Task added Successfully.\n",
      "Task added Successfully.\n",
      "Task added Successfully.\n",
      "Task added Successfully.\n",
      "Task added Successfully.\n",
      "Task added Successfully.\n"
     ]
    }
   ],
   "source": [
    "add_task(\"Complete Project Report\", \"Finish the final report for the project.\", \"2024-09-30\", \"In Progress\")\n",
    "add_task(\"Update Website\", \"Revise the content on the company website.\", \"2024-09-20\", \"In Progress\")\n",
    "add_task(\"Review Code\", \"Conduct a code review for the new feature.\", \"2024-09-18\", \"Pending\")\n",
    "add_task(\"Send Newsletter\", \"Draft and send the monthly newsletter to subscribers.\", \"2024-09-10\", \"Completed\")\n",
    "add_task(\"Organize Team Event\", \"Plan and organize the team-building event.\", \"2024-09-25\", \"Pending\")\n",
    "add_task(\"Conduct Training\", \"Host a training session for new employees.\", \"2024-09-28\", \"In Progress\")\n",
    "add_task(\"Implement Feedback\", \"Incorporate feedback from the client into the project.\", \"2024-09-22\", \"Pending\")\n",
    "add_task(\"Review Budget\", \"Analyze and review the quarterly budget.\", \"2024-09-12\", \"Completed\")\n"
   ]
  },
  {
   "cell_type": "code",
   "execution_count": 9,
   "id": "36b5ba65-d7f3-4df1-8270-56dd9ff39d9a",
   "metadata": {},
   "outputs": [
    {
     "name": "stdout",
     "output_type": "stream",
     "text": [
      "Task updated successfully.\n",
      "Task updated successfully.\n",
      "Task updated successfully.\n"
     ]
    }
   ],
   "source": [
    "update_task(2, status=\"Completed\")\n",
    "update_task(3, description=\"Conduct a thorough code review for the new feature.\", due_date=\"2024-09-20\")\n",
    "update_task(5, title=\"Organize Team Building Event\", due_date=\"2024-09-27\", status=\"In Progress\")\n"
   ]
  },
  {
   "cell_type": "code",
   "execution_count": 10,
   "id": "84759662-f9bb-437e-bc24-0649a3d9ad1d",
   "metadata": {},
   "outputs": [
    {
     "name": "stdout",
     "output_type": "stream",
     "text": [
      "Task removed successfully.\n"
     ]
    }
   ],
   "source": [
    "remove_task(4)\n"
   ]
  },
  {
   "cell_type": "code",
   "execution_count": 12,
   "id": "969e5a23-0596-4846-bd1e-52aedc1d1c36",
   "metadata": {},
   "outputs": [
    {
     "name": "stdout",
     "output_type": "stream",
     "text": [
      "task records:\n",
      "(1, 'Complete Project Report', 'Finish the final report for the project.', datetime.date(2024, 9, 30), 'In Progress')\n",
      "(2, 'Update Website', 'Revise the content on the company website.', datetime.date(2024, 9, 20), 'Completed')\n",
      "(3, 'Review Code', 'Conduct a thorough code review for the new feature.', datetime.date(2024, 9, 20), 'Pending')\n",
      "(5, 'Organize Team Building Event', 'Plan and organize the team-building event.', datetime.date(2024, 9, 27), 'In Progress')\n",
      "(6, 'Conduct Training', 'Host a training session for new employees.', datetime.date(2024, 9, 28), 'In Progress')\n",
      "(7, 'Implement Feedback', 'Incorporate feedback from the client into the project.', datetime.date(2024, 9, 22), 'Pending')\n",
      "(8, 'Review Budget', 'Analyze and review the quarterly budget.', datetime.date(2024, 9, 12), 'Completed')\n"
     ]
    }
   ],
   "source": [
    "view_tasks()"
   ]
  },
  {
   "cell_type": "code",
   "execution_count": null,
   "id": "93ad67a8-84fc-45d8-8053-89ad3622725a",
   "metadata": {},
   "outputs": [],
   "source": []
  }
 ],
 "metadata": {
  "kernelspec": {
   "display_name": "Python 3 (ipykernel)",
   "language": "python",
   "name": "python3"
  },
  "language_info": {
   "codemirror_mode": {
    "name": "ipython",
    "version": 3
   },
   "file_extension": ".py",
   "mimetype": "text/x-python",
   "name": "python",
   "nbconvert_exporter": "python",
   "pygments_lexer": "ipython3",
   "version": "3.11.4"
  }
 },
 "nbformat": 4,
 "nbformat_minor": 5
}
